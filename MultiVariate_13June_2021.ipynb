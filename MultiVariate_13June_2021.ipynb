{
  "nbformat": 4,
  "nbformat_minor": 0,
  "metadata": {
    "colab": {
      "name": "MultiVariate.ipynb",
      "provenance": [],
      "authorship_tag": "ABX9TyP/7sWWYoMiUhU68zhdhVlQ",
      "include_colab_link": true
    },
    "kernelspec": {
      "name": "python3",
      "display_name": "Python 3"
    },
    "language_info": {
      "name": "python"
    }
  },
  "cells": [
    {
      "cell_type": "markdown",
      "metadata": {
        "id": "view-in-github",
        "colab_type": "text"
      },
      "source": [
        "<a href=\"https://colab.research.google.com/github/Ravneet-kaur1102/ML-Live-Session/blob/main/MultiVariate_13June_2021.ipynb\" target=\"_parent\"><img src=\"https://colab.research.google.com/assets/colab-badge.svg\" alt=\"Open In Colab\"/></a>"
      ]
    },
    {
      "cell_type": "markdown",
      "metadata": {
        "id": "dLZAlPZPqEXQ"
      },
      "source": [
        "#Multiariate Linear Regression\n",
        "Author: Ravneet Kaur\n",
        "\n",
        "Date: June 13, 2021\n",
        "\n",
        "Reach me at: [LinkedIn](https://www.linkedin.com/in/ravneet-kaur-4b018b45/)\n",
        "\n",
        "For DataSet: [Data Set](https://archive.ics.uci.edu/ml/machine-learning-databases/00320/)\n"
      ]
    },
    {
      "cell_type": "code",
      "metadata": {
        "colab": {
          "base_uri": "https://localhost:8080/"
        },
        "id": "r1r8LapQnmcF",
        "outputId": "e2894ce3-32de-4bea-e763-0ad838da5ec4"
      },
      "source": [
        "from google.colab import drive\n",
        "drive.mount('/content/drive')"
      ],
      "execution_count": 1,
      "outputs": [
        {
          "output_type": "stream",
          "text": [
            "Mounted at /content/drive\n"
          ],
          "name": "stdout"
        }
      ]
    },
    {
      "cell_type": "code",
      "metadata": {
        "colab": {
          "base_uri": "https://localhost:8080/"
        },
        "id": "-BHm_y1mqNWH",
        "outputId": "c1909135-50c2-49f3-fdfc-c21c5c063589"
      },
      "source": [
        "cd '/content/drive/MyDrive/AI Live Session/Files'"
      ],
      "execution_count": 2,
      "outputs": [
        {
          "output_type": "stream",
          "text": [
            "/content/drive/MyDrive/AI Live Session/Files\n"
          ],
          "name": "stdout"
        }
      ]
    },
    {
      "cell_type": "code",
      "metadata": {
        "colab": {
          "base_uri": "https://localhost:8080/"
        },
        "id": "Y3I_U2RhqbqP",
        "outputId": "46deccc9-29a3-436d-d74c-f652d5765d0f"
      },
      "source": [
        "ls"
      ],
      "execution_count": 3,
      "outputs": [
        {
          "output_type": "stream",
          "text": [
            "cleanedMathData.csv  student-merge.R  student.txt\n",
            "student-mat.csv      student-por.csv  univariate_MathData_2.csv\n"
          ],
          "name": "stdout"
        }
      ]
    },
    {
      "cell_type": "code",
      "metadata": {
        "id": "yw5V6VExqcuM"
      },
      "source": [
        ""
      ],
      "execution_count": null,
      "outputs": []
    }
  ]
}
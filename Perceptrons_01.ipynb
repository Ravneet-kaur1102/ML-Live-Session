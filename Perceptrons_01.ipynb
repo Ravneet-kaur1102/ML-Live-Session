{
  "nbformat": 4,
  "nbformat_minor": 0,
  "metadata": {
    "colab": {
      "name": "Perceptrons_01.ipynb",
      "provenance": [],
      "collapsed_sections": [],
      "authorship_tag": "ABX9TyMqwPYm2Rn+s2k7qiUjNngK",
      "include_colab_link": true
    },
    "kernelspec": {
      "name": "python3",
      "display_name": "Python 3"
    },
    "language_info": {
      "name": "python"
    }
  },
  "cells": [
    {
      "cell_type": "markdown",
      "metadata": {
        "id": "view-in-github",
        "colab_type": "text"
      },
      "source": [
        "<a href=\"https://colab.research.google.com/github/Ravneet-kaur1102/ML-Live-Session/blob/main/Perceptrons_01.ipynb\" target=\"_parent\"><img src=\"https://colab.research.google.com/assets/colab-badge.svg\" alt=\"Open In Colab\"/></a>"
      ]
    },
    {
      "cell_type": "markdown",
      "metadata": {
        "id": "rnW5WX3GtJy_"
      },
      "source": [
        "*Date Created:* May 31, 2021\n",
        "\n",
        "*Time:* 12:47 AM (IST)\n",
        "\n",
        "*Author Name:* [Ravneet Kaur](https://github.com/Ravneet-kaur1102)\n",
        "\n",
        "\n"
      ]
    },
    {
      "cell_type": "code",
      "metadata": {
        "colab": {
          "base_uri": "https://localhost:8080/"
        },
        "id": "9351PDzrl6sE",
        "outputId": "c2710590-a9b2-493a-8b77-e8f6e80dd0c9"
      },
      "source": [
        "from google.colab import drive\n",
        "drive.mount('/content/drive')\n"
      ],
      "execution_count": null,
      "outputs": [
        {
          "output_type": "stream",
          "text": [
            "Mounted at /content/drive\n"
          ],
          "name": "stdout"
        }
      ]
    },
    {
      "cell_type": "code",
      "metadata": {
        "id": "QeM2B_EznPpc",
        "colab": {
          "base_uri": "https://localhost:8080/"
        },
        "outputId": "6477d6ed-290f-462c-a88a-2ccb27f75705"
      },
      "source": [
        "cd '/content/drive/MyDrive/AI Live Session'"
      ],
      "execution_count": null,
      "outputs": [
        {
          "output_type": "stream",
          "text": [
            "/content/drive/MyDrive/AI Live Session\n"
          ],
          "name": "stdout"
        }
      ]
    },
    {
      "cell_type": "code",
      "metadata": {
        "colab": {
          "base_uri": "https://localhost:8080/"
        },
        "id": "JM31L9xakRRZ",
        "outputId": "48591891-3949-4f21-d5f6-76f21e31a0ca"
      },
      "source": [
        "print(\"hello!!\")"
      ],
      "execution_count": null,
      "outputs": [
        {
          "output_type": "stream",
          "text": [
            "hello!!\n"
          ],
          "name": "stdout"
        }
      ]
    },
    {
      "cell_type": "markdown",
      "metadata": {
        "id": "t8HbukRFuEiJ"
      },
      "source": [
        "#Problem Statement\n",
        "\n",
        "Train your model to learn table of 9. \n",
        "\n",
        "Equation: `y = 10*x`\n"
      ]
    },
    {
      "cell_type": "markdown",
      "metadata": {
        "id": "d7hwvFsCwL9c"
      },
      "source": [
        "## Data Set Creation\n",
        "\n",
        "Equation: `y = 10*x`\n",
        "\n",
        "Target -->\n",
        "```\n",
        "xTrain = [0, 1, 2, 3, 4, 5,...]\n",
        "\n",
        "yTrain = [0, 10, 20 30, 40, 50,...]\n",
        "```"
      ]
    },
    {
      "cell_type": "code",
      "metadata": {
        "id": "NELwhqO1vDDR",
        "colab": {
          "base_uri": "https://localhost:8080/"
        },
        "outputId": "652cf738-2f46-403c-a655-7d19d230764f"
      },
      "source": [
        "x = [i for i in range(21)]  #List comprehension\n",
        "print(x)"
      ],
      "execution_count": 17,
      "outputs": [
        {
          "output_type": "stream",
          "text": [
            "[0, 1, 2, 3, 4, 5, 6, 7, 8, 9, 10, 11, 12, 13, 14, 15, 16, 17, 18, 19, 20]\n"
          ],
          "name": "stdout"
        }
      ]
    },
    {
      "cell_type": "code",
      "metadata": {
        "id": "wZUCZP5Gu8j-",
        "colab": {
          "base_uri": "https://localhost:8080/"
        },
        "outputId": "54bc0ff3-14b3-4e88-f176-133d50c29ce9"
      },
      "source": [
        "y = [i for i in range(0,201,10)]\n",
        "print(y)"
      ],
      "execution_count": 18,
      "outputs": [
        {
          "output_type": "stream",
          "text": [
            "[0, 10, 20, 30, 40, 50, 60, 70, 80, 90, 100, 110, 120, 130, 140, 150, 160, 170, 180, 190, 200]\n"
          ],
          "name": "stdout"
        }
      ]
    },
    {
      "cell_type": "markdown",
      "metadata": {
        "id": "rK5LFjh00Orj"
      },
      "source": [
        "#Approach 1\n",
        "\n",
        "Defining a function for the equation `y=10x`"
      ]
    },
    {
      "cell_type": "code",
      "metadata": {
        "id": "6eS-cGv-uCR1",
        "colab": {
          "base_uri": "https://localhost:8080/"
        },
        "outputId": "8708f1f2-f185-4451-8ad7-45ea27c78810"
      },
      "source": [
        "def table(num):\n",
        "  y = num * 10\n",
        "  return y\n",
        "\n",
        "for value in x:\n",
        "  print(table(value))"
      ],
      "execution_count": 19,
      "outputs": [
        {
          "output_type": "stream",
          "text": [
            "0\n",
            "10\n",
            "20\n",
            "30\n",
            "40\n",
            "50\n",
            "60\n",
            "70\n",
            "80\n",
            "90\n",
            "100\n",
            "110\n",
            "120\n",
            "130\n",
            "140\n",
            "150\n",
            "160\n",
            "170\n",
            "180\n",
            "190\n",
            "200\n"
          ],
          "name": "stdout"
        }
      ]
    },
    {
      "cell_type": "markdown",
      "metadata": {
        "id": "9jRHGH-p070y"
      },
      "source": [
        "#Approach 2 \n",
        "\n",
        "We are understanding the need of ML during the course so we ended up training a neuron on the table of 10, probably something that no one would ever use again, lol\n",
        "\n",
        "But wait! Before that we need the data to be split into Training and Testing, right? So let's do that!\n",
        "\n",
        "We are going to split the data in our case the lists x and y into four parts,\n",
        "\n",
        "xTrain for training data\n",
        "yTrain for training labels\n",
        "xTest for testing data\n",
        "yTest for testing labels"
      ]
    },
    {
      "cell_type": "markdown",
      "metadata": {
        "id": "1fS46fDs2BUm"
      },
      "source": [
        "We are going to need xTrain, yTrain, xTest, yTest from x and y lists"
      ]
    },
    {
      "cell_type": "code",
      "metadata": {
        "colab": {
          "base_uri": "https://localhost:8080/"
        },
        "id": "txmFIXQ304zm",
        "outputId": "6682a367-b176-4811-c9ab-c545cffeab3c"
      },
      "source": [
        " print(f'This is x: {x}')\n",
        "\n",
        " print(f'This is y: {y}')"
      ],
      "execution_count": 20,
      "outputs": [
        {
          "output_type": "stream",
          "text": [
            "This is x: [0, 1, 2, 3, 4, 5, 6, 7, 8, 9, 10, 11, 12, 13, 14, 15, 16, 17, 18, 19, 20]\n",
            "This is y: [0, 10, 20, 30, 40, 50, 60, 70, 80, 90, 100, 110, 120, 130, 140, 150, 160, 170, 180, 190, 200]\n"
          ],
          "name": "stdout"
        }
      ]
    },
    {
      "cell_type": "code",
      "metadata": {
        "colab": {
          "base_uri": "https://localhost:8080/"
        },
        "id": "Nx_uboKP4p3V",
        "outputId": "b8d6852a-afa5-4c4f-fdfc-731598f881ec"
      },
      "source": [
        "xTrain = x[:-5]  #Traing Data\n",
        "yTrain = y[:-5]  # Training Labels\n",
        "\n",
        "xTest = x[-5:]    #Testing Data \n",
        "yTest = y[-5:]    #Testing Labels\n",
        "\n",
        "print(f'''\n",
        "Training Data : {x}\n",
        "Training Labels : {y}\n",
        "\n",
        "xTrain : {xTrain}\n",
        "yTrain : {yTrain}\n",
        "\n",
        "xTest  : {xTest}\n",
        "yTest  : {yTest}\n",
        "''')\n"
      ],
      "execution_count": 28,
      "outputs": [
        {
          "output_type": "stream",
          "text": [
            "\n",
            "Training Data : [0, 1, 2, 3, 4, 5, 6, 7, 8, 9, 10, 11, 12, 13, 14, 15, 16, 17, 18, 19, 20]\n",
            "Training Labels : [0, 10, 20, 30, 40, 50, 60, 70, 80, 90, 100, 110, 120, 130, 140, 150, 160, 170, 180, 190, 200]\n",
            "\n",
            "xTrain : [0, 1, 2, 3, 4, 5, 6, 7, 8, 9, 10, 11, 12, 13, 14, 15]\n",
            "yTrain : [0, 10, 20, 30, 40, 50, 60, 70, 80, 90, 100, 110, 120, 130, 140, 150]\n",
            "\n",
            "xTest  : [16, 17, 18, 19, 20]\n",
            "yTest  : [160, 170, 180, 190, 200]\n",
            "\n"
          ],
          "name": "stdout"
        }
      ]
    },
    {
      "cell_type": "code",
      "metadata": {
        "id": "YDx2s1_25OTM"
      },
      "source": [
        "import tensorflow as tf\n",
        "from tensorflow import keras"
      ],
      "execution_count": 30,
      "outputs": []
    },
    {
      "cell_type": "code",
      "metadata": {
        "id": "KcUrGBz58QPi"
      },
      "source": [
        "# preceptron  model\n",
        "\n",
        "model = tf.keras.Sequential([\n",
        "                             tf.keras\n",
        "])"
      ],
      "execution_count": null,
      "outputs": []
    }
  ]
}
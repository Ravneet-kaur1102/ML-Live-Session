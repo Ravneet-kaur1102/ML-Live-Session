{
  "nbformat": 4,
  "nbformat_minor": 0,
  "metadata": {
    "colab": {
      "name": "Univariate Linear Regression_June_06_2021.ipynb",
      "provenance": [],
      "collapsed_sections": [],
      "authorship_tag": "ABX9TyOVfoHpr3SINcPUr77rUFCf",
      "include_colab_link": true
    },
    "kernelspec": {
      "name": "python3",
      "display_name": "Python 3"
    },
    "language_info": {
      "name": "python"
    }
  },
  "cells": [
    {
      "cell_type": "markdown",
      "metadata": {
        "id": "view-in-github",
        "colab_type": "text"
      },
      "source": [
        "<a href=\"https://colab.research.google.com/github/Ravneet-kaur1102/ML-Live-Session/blob/main/Univariate_Linear_Regression_June_06_2021.ipynb\" target=\"_parent\"><img src=\"https://colab.research.google.com/assets/colab-badge.svg\" alt=\"Open In Colab\"/></a>"
      ]
    },
    {
      "cell_type": "markdown",
      "metadata": {
        "id": "gRmcaT2acJND"
      },
      "source": [
        "#Univariate Linear Regression\n",
        "Author: Ravneet Kaur\n",
        "\n",
        "Date: June 6, 2021\n",
        "\n",
        "Reach me at: [LinkedIn](https://www.linkedin.com/in/ravneet-kaur-4b018b45/)\n",
        "\n",
        "For DataSet: [Data Set](https://archive.ics.uci.edu/ml/machine-learning-databases/00320/)\n"
      ]
    },
    {
      "cell_type": "code",
      "metadata": {
        "colab": {
          "base_uri": "https://localhost:8080/"
        },
        "id": "hQbzgZGOb3F7",
        "outputId": "9ee92475-f0b3-4697-d6ed-25653ea604f0"
      },
      "source": [
        "from google.colab import drive\n",
        "drive.mount('/content/drive')"
      ],
      "execution_count": null,
      "outputs": [
        {
          "output_type": "stream",
          "text": [
            "Mounted at /content/drive\n"
          ],
          "name": "stdout"
        }
      ]
    },
    {
      "cell_type": "code",
      "metadata": {
        "colab": {
          "base_uri": "https://localhost:8080/"
        },
        "id": "4WPu3W2ShN12",
        "outputId": "a50f58bd-ddbc-44de-c470-eb94948d3c68"
      },
      "source": [
        "cd '/content/drive/MyDrive/AI Live Session/Files'"
      ],
      "execution_count": null,
      "outputs": [
        {
          "output_type": "stream",
          "text": [
            "/content/drive/MyDrive/AI Live Session/Files\n"
          ],
          "name": "stdout"
        }
      ]
    },
    {
      "cell_type": "code",
      "metadata": {
        "colab": {
          "base_uri": "https://localhost:8080/"
        },
        "id": "vSYRhpQthrEr",
        "outputId": "c98d06ff-e354-4a9b-8db5-df68dcbfe6f0"
      },
      "source": [
        "ls\n"
      ],
      "execution_count": null,
      "outputs": [
        {
          "output_type": "stream",
          "text": [
            "cleanedMathData.csv  student-merge.R  student.txt\n",
            "student-mat.csv      student-por.csv  univariate_MathData_2.csv\n"
          ],
          "name": "stdout"
        }
      ]
    },
    {
      "cell_type": "code",
      "metadata": {
        "id": "iQYVbR7Rt8nf"
      },
      "source": [
        "import pandas as pd #working with csv or excel files\n",
        "import numpy as np #working with numbers/ arrays/ tensors\n",
        "import tensorflow as tf #framework\n",
        "from tensorflow import keras #API / library \n",
        "import os #using os commands between the python language"
      ],
      "execution_count": null,
      "outputs": []
    },
    {
      "cell_type": "code",
      "metadata": {
        "id": "w1oWKsgXhx5V"
      },
      "source": [
        "mathData = pd.read_csv('student-mat.csv', sep=';') #load the csv file as dataframe"
      ],
      "execution_count": null,
      "outputs": []
    },
    {
      "cell_type": "code",
      "metadata": {
        "colab": {
          "base_uri": "https://localhost:8080/",
          "height": 379
        },
        "id": "zZQMwzLMt4zl",
        "outputId": "8fa8d3c5-7744-4938-9a42-c7e736bdc12b"
      },
      "source": [
        "mathData.head(10)"
      ],
      "execution_count": null,
      "outputs": [
        {
          "output_type": "execute_result",
          "data": {
            "text/html": [
              "<div>\n",
              "<style scoped>\n",
              "    .dataframe tbody tr th:only-of-type {\n",
              "        vertical-align: middle;\n",
              "    }\n",
              "\n",
              "    .dataframe tbody tr th {\n",
              "        vertical-align: top;\n",
              "    }\n",
              "\n",
              "    .dataframe thead th {\n",
              "        text-align: right;\n",
              "    }\n",
              "</style>\n",
              "<table border=\"1\" class=\"dataframe\">\n",
              "  <thead>\n",
              "    <tr style=\"text-align: right;\">\n",
              "      <th></th>\n",
              "      <th>school</th>\n",
              "      <th>sex</th>\n",
              "      <th>age</th>\n",
              "      <th>address</th>\n",
              "      <th>famsize</th>\n",
              "      <th>Pstatus</th>\n",
              "      <th>Medu</th>\n",
              "      <th>Fedu</th>\n",
              "      <th>Mjob</th>\n",
              "      <th>Fjob</th>\n",
              "      <th>reason</th>\n",
              "      <th>guardian</th>\n",
              "      <th>traveltime</th>\n",
              "      <th>studytime</th>\n",
              "      <th>failures</th>\n",
              "      <th>schoolsup</th>\n",
              "      <th>famsup</th>\n",
              "      <th>paid</th>\n",
              "      <th>activities</th>\n",
              "      <th>nursery</th>\n",
              "      <th>higher</th>\n",
              "      <th>internet</th>\n",
              "      <th>romantic</th>\n",
              "      <th>famrel</th>\n",
              "      <th>freetime</th>\n",
              "      <th>goout</th>\n",
              "      <th>Dalc</th>\n",
              "      <th>Walc</th>\n",
              "      <th>health</th>\n",
              "      <th>absences</th>\n",
              "      <th>G1</th>\n",
              "      <th>G2</th>\n",
              "      <th>G3</th>\n",
              "    </tr>\n",
              "  </thead>\n",
              "  <tbody>\n",
              "    <tr>\n",
              "      <th>0</th>\n",
              "      <td>GP</td>\n",
              "      <td>F</td>\n",
              "      <td>18</td>\n",
              "      <td>U</td>\n",
              "      <td>GT3</td>\n",
              "      <td>A</td>\n",
              "      <td>4</td>\n",
              "      <td>4</td>\n",
              "      <td>at_home</td>\n",
              "      <td>teacher</td>\n",
              "      <td>course</td>\n",
              "      <td>mother</td>\n",
              "      <td>2</td>\n",
              "      <td>2</td>\n",
              "      <td>0</td>\n",
              "      <td>yes</td>\n",
              "      <td>no</td>\n",
              "      <td>no</td>\n",
              "      <td>no</td>\n",
              "      <td>yes</td>\n",
              "      <td>yes</td>\n",
              "      <td>no</td>\n",
              "      <td>no</td>\n",
              "      <td>4</td>\n",
              "      <td>3</td>\n",
              "      <td>4</td>\n",
              "      <td>1</td>\n",
              "      <td>1</td>\n",
              "      <td>3</td>\n",
              "      <td>6</td>\n",
              "      <td>5</td>\n",
              "      <td>6</td>\n",
              "      <td>6</td>\n",
              "    </tr>\n",
              "    <tr>\n",
              "      <th>1</th>\n",
              "      <td>GP</td>\n",
              "      <td>F</td>\n",
              "      <td>17</td>\n",
              "      <td>U</td>\n",
              "      <td>GT3</td>\n",
              "      <td>T</td>\n",
              "      <td>1</td>\n",
              "      <td>1</td>\n",
              "      <td>at_home</td>\n",
              "      <td>other</td>\n",
              "      <td>course</td>\n",
              "      <td>father</td>\n",
              "      <td>1</td>\n",
              "      <td>2</td>\n",
              "      <td>0</td>\n",
              "      <td>no</td>\n",
              "      <td>yes</td>\n",
              "      <td>no</td>\n",
              "      <td>no</td>\n",
              "      <td>no</td>\n",
              "      <td>yes</td>\n",
              "      <td>yes</td>\n",
              "      <td>no</td>\n",
              "      <td>5</td>\n",
              "      <td>3</td>\n",
              "      <td>3</td>\n",
              "      <td>1</td>\n",
              "      <td>1</td>\n",
              "      <td>3</td>\n",
              "      <td>4</td>\n",
              "      <td>5</td>\n",
              "      <td>5</td>\n",
              "      <td>6</td>\n",
              "    </tr>\n",
              "    <tr>\n",
              "      <th>2</th>\n",
              "      <td>GP</td>\n",
              "      <td>F</td>\n",
              "      <td>15</td>\n",
              "      <td>U</td>\n",
              "      <td>LE3</td>\n",
              "      <td>T</td>\n",
              "      <td>1</td>\n",
              "      <td>1</td>\n",
              "      <td>at_home</td>\n",
              "      <td>other</td>\n",
              "      <td>other</td>\n",
              "      <td>mother</td>\n",
              "      <td>1</td>\n",
              "      <td>2</td>\n",
              "      <td>3</td>\n",
              "      <td>yes</td>\n",
              "      <td>no</td>\n",
              "      <td>yes</td>\n",
              "      <td>no</td>\n",
              "      <td>yes</td>\n",
              "      <td>yes</td>\n",
              "      <td>yes</td>\n",
              "      <td>no</td>\n",
              "      <td>4</td>\n",
              "      <td>3</td>\n",
              "      <td>2</td>\n",
              "      <td>2</td>\n",
              "      <td>3</td>\n",
              "      <td>3</td>\n",
              "      <td>10</td>\n",
              "      <td>7</td>\n",
              "      <td>8</td>\n",
              "      <td>10</td>\n",
              "    </tr>\n",
              "    <tr>\n",
              "      <th>3</th>\n",
              "      <td>GP</td>\n",
              "      <td>F</td>\n",
              "      <td>15</td>\n",
              "      <td>U</td>\n",
              "      <td>GT3</td>\n",
              "      <td>T</td>\n",
              "      <td>4</td>\n",
              "      <td>2</td>\n",
              "      <td>health</td>\n",
              "      <td>services</td>\n",
              "      <td>home</td>\n",
              "      <td>mother</td>\n",
              "      <td>1</td>\n",
              "      <td>3</td>\n",
              "      <td>0</td>\n",
              "      <td>no</td>\n",
              "      <td>yes</td>\n",
              "      <td>yes</td>\n",
              "      <td>yes</td>\n",
              "      <td>yes</td>\n",
              "      <td>yes</td>\n",
              "      <td>yes</td>\n",
              "      <td>yes</td>\n",
              "      <td>3</td>\n",
              "      <td>2</td>\n",
              "      <td>2</td>\n",
              "      <td>1</td>\n",
              "      <td>1</td>\n",
              "      <td>5</td>\n",
              "      <td>2</td>\n",
              "      <td>15</td>\n",
              "      <td>14</td>\n",
              "      <td>15</td>\n",
              "    </tr>\n",
              "    <tr>\n",
              "      <th>4</th>\n",
              "      <td>GP</td>\n",
              "      <td>F</td>\n",
              "      <td>16</td>\n",
              "      <td>U</td>\n",
              "      <td>GT3</td>\n",
              "      <td>T</td>\n",
              "      <td>3</td>\n",
              "      <td>3</td>\n",
              "      <td>other</td>\n",
              "      <td>other</td>\n",
              "      <td>home</td>\n",
              "      <td>father</td>\n",
              "      <td>1</td>\n",
              "      <td>2</td>\n",
              "      <td>0</td>\n",
              "      <td>no</td>\n",
              "      <td>yes</td>\n",
              "      <td>yes</td>\n",
              "      <td>no</td>\n",
              "      <td>yes</td>\n",
              "      <td>yes</td>\n",
              "      <td>no</td>\n",
              "      <td>no</td>\n",
              "      <td>4</td>\n",
              "      <td>3</td>\n",
              "      <td>2</td>\n",
              "      <td>1</td>\n",
              "      <td>2</td>\n",
              "      <td>5</td>\n",
              "      <td>4</td>\n",
              "      <td>6</td>\n",
              "      <td>10</td>\n",
              "      <td>10</td>\n",
              "    </tr>\n",
              "    <tr>\n",
              "      <th>5</th>\n",
              "      <td>GP</td>\n",
              "      <td>M</td>\n",
              "      <td>16</td>\n",
              "      <td>U</td>\n",
              "      <td>LE3</td>\n",
              "      <td>T</td>\n",
              "      <td>4</td>\n",
              "      <td>3</td>\n",
              "      <td>services</td>\n",
              "      <td>other</td>\n",
              "      <td>reputation</td>\n",
              "      <td>mother</td>\n",
              "      <td>1</td>\n",
              "      <td>2</td>\n",
              "      <td>0</td>\n",
              "      <td>no</td>\n",
              "      <td>yes</td>\n",
              "      <td>yes</td>\n",
              "      <td>yes</td>\n",
              "      <td>yes</td>\n",
              "      <td>yes</td>\n",
              "      <td>yes</td>\n",
              "      <td>no</td>\n",
              "      <td>5</td>\n",
              "      <td>4</td>\n",
              "      <td>2</td>\n",
              "      <td>1</td>\n",
              "      <td>2</td>\n",
              "      <td>5</td>\n",
              "      <td>10</td>\n",
              "      <td>15</td>\n",
              "      <td>15</td>\n",
              "      <td>15</td>\n",
              "    </tr>\n",
              "    <tr>\n",
              "      <th>6</th>\n",
              "      <td>GP</td>\n",
              "      <td>M</td>\n",
              "      <td>16</td>\n",
              "      <td>U</td>\n",
              "      <td>LE3</td>\n",
              "      <td>T</td>\n",
              "      <td>2</td>\n",
              "      <td>2</td>\n",
              "      <td>other</td>\n",
              "      <td>other</td>\n",
              "      <td>home</td>\n",
              "      <td>mother</td>\n",
              "      <td>1</td>\n",
              "      <td>2</td>\n",
              "      <td>0</td>\n",
              "      <td>no</td>\n",
              "      <td>no</td>\n",
              "      <td>no</td>\n",
              "      <td>no</td>\n",
              "      <td>yes</td>\n",
              "      <td>yes</td>\n",
              "      <td>yes</td>\n",
              "      <td>no</td>\n",
              "      <td>4</td>\n",
              "      <td>4</td>\n",
              "      <td>4</td>\n",
              "      <td>1</td>\n",
              "      <td>1</td>\n",
              "      <td>3</td>\n",
              "      <td>0</td>\n",
              "      <td>12</td>\n",
              "      <td>12</td>\n",
              "      <td>11</td>\n",
              "    </tr>\n",
              "    <tr>\n",
              "      <th>7</th>\n",
              "      <td>GP</td>\n",
              "      <td>F</td>\n",
              "      <td>17</td>\n",
              "      <td>U</td>\n",
              "      <td>GT3</td>\n",
              "      <td>A</td>\n",
              "      <td>4</td>\n",
              "      <td>4</td>\n",
              "      <td>other</td>\n",
              "      <td>teacher</td>\n",
              "      <td>home</td>\n",
              "      <td>mother</td>\n",
              "      <td>2</td>\n",
              "      <td>2</td>\n",
              "      <td>0</td>\n",
              "      <td>yes</td>\n",
              "      <td>yes</td>\n",
              "      <td>no</td>\n",
              "      <td>no</td>\n",
              "      <td>yes</td>\n",
              "      <td>yes</td>\n",
              "      <td>no</td>\n",
              "      <td>no</td>\n",
              "      <td>4</td>\n",
              "      <td>1</td>\n",
              "      <td>4</td>\n",
              "      <td>1</td>\n",
              "      <td>1</td>\n",
              "      <td>1</td>\n",
              "      <td>6</td>\n",
              "      <td>6</td>\n",
              "      <td>5</td>\n",
              "      <td>6</td>\n",
              "    </tr>\n",
              "    <tr>\n",
              "      <th>8</th>\n",
              "      <td>GP</td>\n",
              "      <td>M</td>\n",
              "      <td>15</td>\n",
              "      <td>U</td>\n",
              "      <td>LE3</td>\n",
              "      <td>A</td>\n",
              "      <td>3</td>\n",
              "      <td>2</td>\n",
              "      <td>services</td>\n",
              "      <td>other</td>\n",
              "      <td>home</td>\n",
              "      <td>mother</td>\n",
              "      <td>1</td>\n",
              "      <td>2</td>\n",
              "      <td>0</td>\n",
              "      <td>no</td>\n",
              "      <td>yes</td>\n",
              "      <td>yes</td>\n",
              "      <td>no</td>\n",
              "      <td>yes</td>\n",
              "      <td>yes</td>\n",
              "      <td>yes</td>\n",
              "      <td>no</td>\n",
              "      <td>4</td>\n",
              "      <td>2</td>\n",
              "      <td>2</td>\n",
              "      <td>1</td>\n",
              "      <td>1</td>\n",
              "      <td>1</td>\n",
              "      <td>0</td>\n",
              "      <td>16</td>\n",
              "      <td>18</td>\n",
              "      <td>19</td>\n",
              "    </tr>\n",
              "    <tr>\n",
              "      <th>9</th>\n",
              "      <td>GP</td>\n",
              "      <td>M</td>\n",
              "      <td>15</td>\n",
              "      <td>U</td>\n",
              "      <td>GT3</td>\n",
              "      <td>T</td>\n",
              "      <td>3</td>\n",
              "      <td>4</td>\n",
              "      <td>other</td>\n",
              "      <td>other</td>\n",
              "      <td>home</td>\n",
              "      <td>mother</td>\n",
              "      <td>1</td>\n",
              "      <td>2</td>\n",
              "      <td>0</td>\n",
              "      <td>no</td>\n",
              "      <td>yes</td>\n",
              "      <td>yes</td>\n",
              "      <td>yes</td>\n",
              "      <td>yes</td>\n",
              "      <td>yes</td>\n",
              "      <td>yes</td>\n",
              "      <td>no</td>\n",
              "      <td>5</td>\n",
              "      <td>5</td>\n",
              "      <td>1</td>\n",
              "      <td>1</td>\n",
              "      <td>1</td>\n",
              "      <td>5</td>\n",
              "      <td>0</td>\n",
              "      <td>14</td>\n",
              "      <td>15</td>\n",
              "      <td>15</td>\n",
              "    </tr>\n",
              "  </tbody>\n",
              "</table>\n",
              "</div>"
            ],
            "text/plain": [
              "  school sex  age address famsize Pstatus  ...  Walc  health absences  G1  G2  G3\n",
              "0     GP   F   18       U     GT3       A  ...     1       3        6   5   6   6\n",
              "1     GP   F   17       U     GT3       T  ...     1       3        4   5   5   6\n",
              "2     GP   F   15       U     LE3       T  ...     3       3       10   7   8  10\n",
              "3     GP   F   15       U     GT3       T  ...     1       5        2  15  14  15\n",
              "4     GP   F   16       U     GT3       T  ...     2       5        4   6  10  10\n",
              "5     GP   M   16       U     LE3       T  ...     2       5       10  15  15  15\n",
              "6     GP   M   16       U     LE3       T  ...     1       3        0  12  12  11\n",
              "7     GP   F   17       U     GT3       A  ...     1       1        6   6   5   6\n",
              "8     GP   M   15       U     LE3       A  ...     1       1        0  16  18  19\n",
              "9     GP   M   15       U     GT3       T  ...     1       5        0  14  15  15\n",
              "\n",
              "[10 rows x 33 columns]"
            ]
          },
          "metadata": {
            "tags": []
          },
          "execution_count": 7
        }
      ]
    },
    {
      "cell_type": "markdown",
      "metadata": {
        "id": "VPbvO3DKv286"
      },
      "source": [
        "We are just going to consider the columns G1 and G3 for univariate linear regression"
      ]
    },
    {
      "cell_type": "code",
      "metadata": {
        "colab": {
          "base_uri": "https://localhost:8080/",
          "height": 359
        },
        "id": "asOwn1XnvOka",
        "outputId": "8c31e82d-fb74-46ac-d3ba-5e9823e3aa5f"
      },
      "source": [
        "uniMathData = mathData[['G1','G3']]\n",
        "uniMathData.head(10)"
      ],
      "execution_count": null,
      "outputs": [
        {
          "output_type": "execute_result",
          "data": {
            "text/html": [
              "<div>\n",
              "<style scoped>\n",
              "    .dataframe tbody tr th:only-of-type {\n",
              "        vertical-align: middle;\n",
              "    }\n",
              "\n",
              "    .dataframe tbody tr th {\n",
              "        vertical-align: top;\n",
              "    }\n",
              "\n",
              "    .dataframe thead th {\n",
              "        text-align: right;\n",
              "    }\n",
              "</style>\n",
              "<table border=\"1\" class=\"dataframe\">\n",
              "  <thead>\n",
              "    <tr style=\"text-align: right;\">\n",
              "      <th></th>\n",
              "      <th>G1</th>\n",
              "      <th>G3</th>\n",
              "    </tr>\n",
              "  </thead>\n",
              "  <tbody>\n",
              "    <tr>\n",
              "      <th>0</th>\n",
              "      <td>5</td>\n",
              "      <td>6</td>\n",
              "    </tr>\n",
              "    <tr>\n",
              "      <th>1</th>\n",
              "      <td>5</td>\n",
              "      <td>6</td>\n",
              "    </tr>\n",
              "    <tr>\n",
              "      <th>2</th>\n",
              "      <td>7</td>\n",
              "      <td>10</td>\n",
              "    </tr>\n",
              "    <tr>\n",
              "      <th>3</th>\n",
              "      <td>15</td>\n",
              "      <td>15</td>\n",
              "    </tr>\n",
              "    <tr>\n",
              "      <th>4</th>\n",
              "      <td>6</td>\n",
              "      <td>10</td>\n",
              "    </tr>\n",
              "    <tr>\n",
              "      <th>5</th>\n",
              "      <td>15</td>\n",
              "      <td>15</td>\n",
              "    </tr>\n",
              "    <tr>\n",
              "      <th>6</th>\n",
              "      <td>12</td>\n",
              "      <td>11</td>\n",
              "    </tr>\n",
              "    <tr>\n",
              "      <th>7</th>\n",
              "      <td>6</td>\n",
              "      <td>6</td>\n",
              "    </tr>\n",
              "    <tr>\n",
              "      <th>8</th>\n",
              "      <td>16</td>\n",
              "      <td>19</td>\n",
              "    </tr>\n",
              "    <tr>\n",
              "      <th>9</th>\n",
              "      <td>14</td>\n",
              "      <td>15</td>\n",
              "    </tr>\n",
              "  </tbody>\n",
              "</table>\n",
              "</div>"
            ],
            "text/plain": [
              "   G1  G3\n",
              "0   5   6\n",
              "1   5   6\n",
              "2   7  10\n",
              "3  15  15\n",
              "4   6  10\n",
              "5  15  15\n",
              "6  12  11\n",
              "7   6   6\n",
              "8  16  19\n",
              "9  14  15"
            ]
          },
          "metadata": {
            "tags": []
          },
          "execution_count": 8
        }
      ]
    },
    {
      "cell_type": "code",
      "metadata": {
        "id": "9M2sonGtwrKS"
      },
      "source": [
        "  uniMathData.to_csv('univariate_MathData_2.csv')"
      ],
      "execution_count": null,
      "outputs": []
    },
    {
      "cell_type": "code",
      "metadata": {
        "colab": {
          "base_uri": "https://localhost:8080/"
        },
        "id": "2NvRFkBWxHRs",
        "outputId": "bb7098ce-69ec-4d58-a110-6ee124caee1f"
      },
      "source": [
        "ls\n"
      ],
      "execution_count": null,
      "outputs": [
        {
          "output_type": "stream",
          "text": [
            "cleanedMathData.csv  student-merge.R  student.txt\n",
            "student-mat.csv      student-por.csv  univariate_MathData_2.csv\n"
          ],
          "name": "stdout"
        }
      ]
    },
    {
      "cell_type": "markdown",
      "metadata": {
        "id": "wt_aETQjzLXl"
      },
      "source": [
        "#Data Visualization"
      ]
    },
    {
      "cell_type": "code",
      "metadata": {
        "colab": {
          "base_uri": "https://localhost:8080/",
          "height": 157
        },
        "id": "CZcnJyXMxObA",
        "outputId": "9fea7ce0-7e82-440d-ada4-7a5f38e8b314"
      },
      "source": [
        "import seaborn as sns\n",
        "sns.palplot(sns.color_palette('PuOr')) #Purple to Orange colors\n",
        "pal = sns.color_palette('PuOr', 6) #print 6 color shades from Purple to Orange\n",
        "pal.as_hex() #set hex code values for colors\n",
        "\n",
        "import matplotlib.pyplot as plt\n",
        "plt.style.use(['seaborn'])\n",
        "sns_colors = ['#c6690c', '#664697'] #orange Purple hex codes\n",
        "sns.set_palette(sns_colors) #set the palette as sns_colors \n",
        "sns.palplot(sns.color_palette(sns_colors)) #plot the color codes"
      ],
      "execution_count": null,
      "outputs": [
        {
          "output_type": "display_data",
          "data": {
            "image/png": "[encoded data removed]",
            "text/plain": [
              "<Figure size 432x72 with 1 Axes>"
            ]
          },
          "metadata": {
            "tags": [],
            "needs_background": "light"
          }
        },
        {
          "output_type": "display_data",
          "data": {
            "image/png": "[encoded data removed]",
            "text/plain": [
              "<Figure size 144x72 with 1 Axes>"
            ]
          },
          "metadata": {
            "tags": []
          }
        }
      ]
    },
    {
      "cell_type": "code",
      "metadata": {
        "colab": {
          "base_uri": "https://localhost:8080/"
        },
        "id": "pautNksyzQhS",
        "outputId": "a07187bb-fcc3-444a-d1ae-e9bbf02be957"
      },
      "source": [
        "uniMathData.columns"
      ],
      "execution_count": null,
      "outputs": [
        {
          "output_type": "execute_result",
          "data": {
            "text/plain": [
              "Index(['G1', 'G3'], dtype='object')"
            ]
          },
          "metadata": {
            "tags": []
          },
          "execution_count": 13
        }
      ]
    },
    {
      "cell_type": "code",
      "metadata": {
        "colab": {
          "base_uri": "https://localhost:8080/",
          "height": 391
        },
        "id": "V4Jh1eSKzTuq",
        "outputId": "3be90548-7a6a-459c-e689-8b9ee3bc29d3"
      },
      "source": [
        "sns.pairplot(uniMathData, \n",
        "             x_vars = ['G1','G3'],\n",
        "             y_vars = ['G1','G3'],\n",
        "             diag_kind = 'kde')"
      ],
      "execution_count": null,
      "outputs": [
        {
          "output_type": "execute_result",
          "data": {
            "text/plain": [
              "<seaborn.axisgrid.PairGrid at 0x7f7664a632d0>"
            ]
          },
          "metadata": {
            "tags": []
          },
          "execution_count": 14
        },
        {
          "output_type": "display_data",
          "data": {
            "image/png": "[encoded data removed]",
            "text/plain": [
              "<Figure size 360x360 with 6 Axes>"
            ]
          },
          "metadata": {
            "tags": []
          }
        }
      ]
    },
    {
      "cell_type": "markdown",
      "metadata": {
        "id": "irqZ3JDr0VrE"
      },
      "source": [
        "#Data Split"
      ]
    },
    {
      "cell_type": "code",
      "metadata": {
        "id": "sjN5of5Hzu44",
        "colab": {
          "base_uri": "https://localhost:8080/"
        },
        "outputId": "09cfe8d6-543b-4cc8-e90e-67b0b89dbae9"
      },
      "source": [
        "#80-20 percent Split\n",
        "trainDataset = uniMathData.sample(frac=0.8, random_state=0) \n",
        "testDataset = uniMathData.drop(trainDataset.index)\n",
        "\n",
        "print(trainDataset.head())\n",
        "print(testDataset.head())"
      ],
      "execution_count": null,
      "outputs": [
        {
          "output_type": "stream",
          "text": [
            "     G1  G3\n",
            "329  14  14\n",
            "318  11  10\n",
            "317   9   9\n",
            "65   16  15\n",
            "59   15  16\n",
            "    G1  G3\n",
            "9   14  15\n",
            "25   6   8\n",
            "28  11  11\n",
            "31  17  17\n",
            "32  17  16\n"
          ],
          "name": "stdout"
        }
      ]
    },
    {
      "cell_type": "code",
      "metadata": {
        "colab": {
          "base_uri": "https://localhost:8080/"
        },
        "id": "Cc7ZsMG8ne9d",
        "outputId": "c4ae8228-7a7a-477d-e23f-e34de710ca35"
      },
      "source": [
        "print(trainDataset.shape)\n",
        "print(testDataset.shape)"
      ],
      "execution_count": null,
      "outputs": [
        {
          "output_type": "stream",
          "text": [
            "(316, 2)\n",
            "(79, 2)\n"
          ],
          "name": "stdout"
        }
      ]
    },
    {
      "cell_type": "code",
      "metadata": {
        "colab": {
          "base_uri": "https://localhost:8080/"
        },
        "id": "pttEL4BJnvVj",
        "outputId": "6597384b-861c-418d-a13c-312aeac56d89"
      },
      "source": [
        "#copy the trainDataset dataframe for getting the features\n",
        "\n",
        "trainFeatures = trainDataset.copy()\n",
        "testFeatures = testDataset.copy()\n",
        "\n",
        "print(trainFeatures.head())\n",
        "print(testFeatures.head())"
      ],
      "execution_count": null,
      "outputs": [
        {
          "output_type": "stream",
          "text": [
            "     G1  G3\n",
            "329  14  14\n",
            "318  11  10\n",
            "317   9   9\n",
            "65   16  15\n",
            "59   15  16\n",
            "    G1  G3\n",
            "9   14  15\n",
            "25   6   8\n",
            "28  11  11\n",
            "31  17  17\n",
            "32  17  16\n"
          ],
          "name": "stdout"
        }
      ]
    },
    {
      "cell_type": "code",
      "metadata": {
        "colab": {
          "base_uri": "https://localhost:8080/"
        },
        "id": "a3bxrOtNny6D",
        "outputId": "2e7d2481-845a-4f29-8a2e-5b5dcd0b976a"
      },
      "source": [
        "#removing the G3 column and saving it into the labels variable\n",
        "\n",
        "trainLabels = trainFeatures.pop('G3')\n",
        "testLabels = testFeatures.pop('G3')\n",
        "\n",
        "print(trainLabels.head())\n",
        "print(testLabels.head())"
      ],
      "execution_count": null,
      "outputs": [
        {
          "output_type": "stream",
          "text": [
            "329    14\n",
            "318    10\n",
            "317     9\n",
            "65     15\n",
            "59     16\n",
            "Name: G3, dtype: int64\n",
            "9     15\n",
            "25     8\n",
            "28    11\n",
            "31    17\n",
            "32    16\n",
            "Name: G3, dtype: int64\n"
          ],
          "name": "stdout"
        }
      ]
    },
    {
      "cell_type": "code",
      "metadata": {
        "colab": {
          "base_uri": "https://localhost:8080/"
        },
        "id": "3TydceI1n30M",
        "outputId": "1c1d250e-16c2-426d-87ed-e838695897af"
      },
      "source": [
        "print(trainFeatures.head())\n",
        "print(testFeatures.head())"
      ],
      "execution_count": null,
      "outputs": [
        {
          "output_type": "stream",
          "text": [
            "     G1\n",
            "329  14\n",
            "318  11\n",
            "317   9\n",
            "65   16\n",
            "59   15\n",
            "    G1\n",
            "9   14\n",
            "25   6\n",
            "28  11\n",
            "31  17\n",
            "32  17\n"
          ],
          "name": "stdout"
        }
      ]
    },
    {
      "cell_type": "code",
      "metadata": {
        "id": "NrdFO6Ucn8xj"
      },
      "source": [
        "# univariate -> num(features) = 1\n",
        "# multvariate -> num(features) > 1 = 11\n",
        "\n",
        "\n",
        "model = tf.keras.Sequential([\n",
        "                             tf.keras.layers.Dense(1)\n",
        "\n",
        "])"
      ],
      "execution_count": null,
      "outputs": []
    },
    {
      "cell_type": "code",
      "metadata": {
        "id": "_dYPOFtuoAVO"
      },
      "source": [
        "model.compile(\n",
        "    loss = 'mean_absolute_error',\n",
        "    optimizer = tf.keras.optimizers.Adam(0.001),\n",
        "    metrics = ['mae', 'mse']\n",
        ")"
      ],
      "execution_count": null,
      "outputs": []
    },
    {
      "cell_type": "code",
      "metadata": {
        "colab": {
          "base_uri": "https://localhost:8080/"
        },
        "id": "S6c2cYnnoDo1",
        "outputId": "b4029f9f-eb1c-436e-ec59-67d0573b64d0"
      },
      "source": [
        "numEpochs = 200\n",
        "history = model.fit(x = trainFeatures, y = trainLabels, validation_data = (testFeatures, testLabels), epochs = numEpochs)"
      ],
      "execution_count": null,
      "outputs": [
        {
          "output_type": "stream",
          "text": [
            "Epoch 1/200\n",
            "10/10 [==============================] - 1s 21ms/step - loss: 1.9278 - mae: 1.9278 - mse: 8.1706 - val_loss: 1.6060 - val_mae: 1.6060 - val_mse: 5.9663\n",
            "Epoch 2/200\n",
            "10/10 [==============================] - 0s 3ms/step - loss: 1.9032 - mae: 1.9032 - mse: 8.1513 - val_loss: 1.6028 - val_mae: 1.6028 - val_mse: 5.9902\n",
            "Epoch 3/200\n",
            "10/10 [==============================] - 0s 3ms/step - loss: 1.8800 - mae: 1.8800 - mse: 8.1662 - val_loss: 1.5995 - val_mae: 1.5995 - val_mse: 6.0349\n",
            "Epoch 4/200\n",
            "10/10 [==============================] - 0s 3ms/step - loss: 1.8603 - mae: 1.8603 - mse: 8.2307 - val_loss: 1.5958 - val_mae: 1.5958 - val_mse: 6.1093\n",
            "Epoch 5/200\n",
            "10/10 [==============================] - 0s 3ms/step - loss: 1.8391 - mae: 1.8391 - mse: 8.2792 - val_loss: 1.6050 - val_mae: 1.6050 - val_mse: 6.1921\n",
            "Epoch 6/200\n",
            "10/10 [==============================] - 0s 4ms/step - loss: 1.8405 - mae: 1.8405 - mse: 8.3158 - val_loss: 1.5989 - val_mae: 1.5989 - val_mse: 6.1753\n",
            "Epoch 7/200\n",
            "10/10 [==============================] - 0s 4ms/step - loss: 1.8365 - mae: 1.8365 - mse: 8.2844 - val_loss: 1.5946 - val_mae: 1.5946 - val_mse: 6.1431\n",
            "Epoch 8/200\n",
            "10/10 [==============================] - 0s 4ms/step - loss: 1.8356 - mae: 1.8356 - mse: 8.2930 - val_loss: 1.5997 - val_mae: 1.5997 - val_mse: 6.1773\n",
            "Epoch 9/200\n",
            "10/10 [==============================] - 0s 4ms/step - loss: 1.8344 - mae: 1.8344 - mse: 8.2947 - val_loss: 1.5952 - val_mae: 1.5952 - val_mse: 6.1594\n",
            "Epoch 10/200\n",
            "10/10 [==============================] - 0s 3ms/step - loss: 1.8345 - mae: 1.8345 - mse: 8.2874 - val_loss: 1.5962 - val_mae: 1.5962 - val_mse: 6.1646\n",
            "Epoch 11/200\n",
            "10/10 [==============================] - 0s 3ms/step - loss: 1.8343 - mae: 1.8343 - mse: 8.2945 - val_loss: 1.5960 - val_mae: 1.5960 - val_mse: 6.1636\n",
            "Epoch 12/200\n",
            "10/10 [==============================] - 0s 3ms/step - loss: 1.8343 - mae: 1.8343 - mse: 8.2873 - val_loss: 1.5959 - val_mae: 1.5959 - val_mse: 6.1626\n",
            "Epoch 13/200\n",
            "10/10 [==============================] - 0s 3ms/step - loss: 1.8339 - mae: 1.8339 - mse: 8.2920 - val_loss: 1.5959 - val_mae: 1.5959 - val_mse: 6.1624\n",
            "Epoch 14/200\n",
            "10/10 [==============================] - 0s 4ms/step - loss: 1.8339 - mae: 1.8339 - mse: 8.2884 - val_loss: 1.5960 - val_mae: 1.5960 - val_mse: 6.1628\n",
            "Epoch 15/200\n",
            "10/10 [==============================] - 0s 3ms/step - loss: 1.8340 - mae: 1.8340 - mse: 8.2912 - val_loss: 1.5950 - val_mae: 1.5950 - val_mse: 6.1563\n",
            "Epoch 16/200\n",
            "10/10 [==============================] - 0s 3ms/step - loss: 1.8342 - mae: 1.8342 - mse: 8.2882 - val_loss: 1.5966 - val_mae: 1.5966 - val_mse: 6.1643\n",
            "Epoch 17/200\n",
            "10/10 [==============================] - 0s 4ms/step - loss: 1.8340 - mae: 1.8340 - mse: 8.2878 - val_loss: 1.5961 - val_mae: 1.5961 - val_mse: 6.1620\n",
            "Epoch 18/200\n",
            "10/10 [==============================] - 0s 4ms/step - loss: 1.8335 - mae: 1.8335 - mse: 8.2887 - val_loss: 1.5955 - val_mae: 1.5955 - val_mse: 6.1591\n",
            "Epoch 19/200\n",
            "10/10 [==============================] - 0s 4ms/step - loss: 1.8335 - mae: 1.8335 - mse: 8.2890 - val_loss: 1.5955 - val_mae: 1.5955 - val_mse: 6.1587\n",
            "Epoch 20/200\n",
            "10/10 [==============================] - 0s 3ms/step - loss: 1.8338 - mae: 1.8338 - mse: 8.2883 - val_loss: 1.5951 - val_mae: 1.5951 - val_mse: 6.1562\n",
            "Epoch 21/200\n",
            "10/10 [==============================] - 0s 4ms/step - loss: 1.8334 - mae: 1.8334 - mse: 8.2864 - val_loss: 1.5953 - val_mae: 1.5953 - val_mse: 6.1570\n",
            "Epoch 22/200\n",
            "10/10 [==============================] - 0s 4ms/step - loss: 1.8332 - mae: 1.8332 - mse: 8.2862 - val_loss: 1.5954 - val_mae: 1.5954 - val_mse: 6.1571\n",
            "Epoch 23/200\n",
            "10/10 [==============================] - 0s 3ms/step - loss: 1.8331 - mae: 1.8331 - mse: 8.2864 - val_loss: 1.5951 - val_mae: 1.5951 - val_mse: 6.1556\n",
            "Epoch 24/200\n",
            "10/10 [==============================] - 0s 5ms/step - loss: 1.8333 - mae: 1.8333 - mse: 8.2859 - val_loss: 1.5949 - val_mae: 1.5949 - val_mse: 6.1525\n",
            "Epoch 25/200\n",
            "10/10 [==============================] - 0s 3ms/step - loss: 1.8336 - mae: 1.8336 - mse: 8.2857 - val_loss: 1.5968 - val_mae: 1.5968 - val_mse: 6.1608\n",
            "Epoch 26/200\n",
            "10/10 [==============================] - 0s 3ms/step - loss: 1.8331 - mae: 1.8331 - mse: 8.2840 - val_loss: 1.5956 - val_mae: 1.5956 - val_mse: 6.1569\n",
            "Epoch 27/200\n",
            "10/10 [==============================] - 0s 3ms/step - loss: 1.8328 - mae: 1.8328 - mse: 8.2849 - val_loss: 1.5948 - val_mae: 1.5948 - val_mse: 6.1504\n",
            "Epoch 28/200\n",
            "10/10 [==============================] - 0s 4ms/step - loss: 1.8339 - mae: 1.8339 - mse: 8.2874 - val_loss: 1.5949 - val_mae: 1.5949 - val_mse: 6.1522\n",
            "Epoch 29/200\n",
            "10/10 [==============================] - 0s 4ms/step - loss: 1.8348 - mae: 1.8348 - mse: 8.2848 - val_loss: 1.5978 - val_mae: 1.5978 - val_mse: 6.1623\n",
            "Epoch 30/200\n",
            "10/10 [==============================] - 0s 4ms/step - loss: 1.8335 - mae: 1.8335 - mse: 8.2841 - val_loss: 1.5949 - val_mae: 1.5949 - val_mse: 6.1530\n",
            "Epoch 31/200\n",
            "10/10 [==============================] - 0s 3ms/step - loss: 1.8330 - mae: 1.8330 - mse: 8.2854 - val_loss: 1.5955 - val_mae: 1.5955 - val_mse: 6.1556\n",
            "Epoch 32/200\n",
            "10/10 [==============================] - 0s 4ms/step - loss: 1.8331 - mae: 1.8331 - mse: 8.2834 - val_loss: 1.5959 - val_mae: 1.5959 - val_mse: 6.1566\n",
            "Epoch 33/200\n",
            "10/10 [==============================] - 0s 4ms/step - loss: 1.8330 - mae: 1.8330 - mse: 8.2837 - val_loss: 1.5949 - val_mae: 1.5949 - val_mse: 6.1525\n",
            "Epoch 34/200\n",
            "10/10 [==============================] - 0s 4ms/step - loss: 1.8330 - mae: 1.8330 - mse: 8.2831 - val_loss: 1.5949 - val_mae: 1.5949 - val_mse: 6.1496\n",
            "Epoch 35/200\n",
            "10/10 [==============================] - 0s 4ms/step - loss: 1.8341 - mae: 1.8341 - mse: 8.2777 - val_loss: 1.5969 - val_mae: 1.5969 - val_mse: 6.1587\n",
            "Epoch 36/200\n",
            "10/10 [==============================] - 0s 4ms/step - loss: 1.8339 - mae: 1.8339 - mse: 8.2846 - val_loss: 1.5951 - val_mae: 1.5951 - val_mse: 6.1451\n",
            "Epoch 37/200\n",
            "10/10 [==============================] - 0s 4ms/step - loss: 1.8334 - mae: 1.8334 - mse: 8.2823 - val_loss: 1.5949 - val_mae: 1.5949 - val_mse: 6.1522\n",
            "Epoch 38/200\n",
            "10/10 [==============================] - 0s 4ms/step - loss: 1.8325 - mae: 1.8325 - mse: 8.2825 - val_loss: 1.5955 - val_mae: 1.5955 - val_mse: 6.1547\n",
            "Epoch 39/200\n",
            "10/10 [==============================] - 0s 3ms/step - loss: 1.8327 - mae: 1.8327 - mse: 8.2821 - val_loss: 1.5952 - val_mae: 1.5952 - val_mse: 6.1537\n",
            "Epoch 40/200\n",
            "10/10 [==============================] - 0s 3ms/step - loss: 1.8331 - mae: 1.8331 - mse: 8.2829 - val_loss: 1.5965 - val_mae: 1.5965 - val_mse: 6.1571\n",
            "Epoch 41/200\n",
            "10/10 [==============================] - 0s 3ms/step - loss: 1.8332 - mae: 1.8332 - mse: 8.2815 - val_loss: 1.5950 - val_mae: 1.5950 - val_mse: 6.1493\n",
            "Epoch 42/200\n",
            "10/10 [==============================] - 0s 3ms/step - loss: 1.8331 - mae: 1.8331 - mse: 8.2827 - val_loss: 1.5950 - val_mae: 1.5950 - val_mse: 6.1476\n",
            "Epoch 43/200\n",
            "10/10 [==============================] - 0s 4ms/step - loss: 1.8338 - mae: 1.8338 - mse: 8.2872 - val_loss: 1.5949 - val_mae: 1.5949 - val_mse: 6.1503\n",
            "Epoch 44/200\n",
            "10/10 [==============================] - 0s 4ms/step - loss: 1.8340 - mae: 1.8340 - mse: 8.2773 - val_loss: 1.5963 - val_mae: 1.5963 - val_mse: 6.1562\n",
            "Epoch 45/200\n",
            "10/10 [==============================] - 0s 4ms/step - loss: 1.8329 - mae: 1.8329 - mse: 8.2821 - val_loss: 1.5950 - val_mae: 1.5950 - val_mse: 6.1475\n",
            "Epoch 46/200\n",
            "10/10 [==============================] - 0s 4ms/step - loss: 1.8335 - mae: 1.8335 - mse: 8.2849 - val_loss: 1.5951 - val_mae: 1.5951 - val_mse: 6.1465\n",
            "Epoch 47/200\n",
            "10/10 [==============================] - 0s 4ms/step - loss: 1.8330 - mae: 1.8330 - mse: 8.2802 - val_loss: 1.5950 - val_mae: 1.5950 - val_mse: 6.1529\n",
            "Epoch 48/200\n",
            "10/10 [==============================] - 0s 4ms/step - loss: 1.8326 - mae: 1.8326 - mse: 8.2816 - val_loss: 1.5957 - val_mae: 1.5957 - val_mse: 6.1548\n",
            "Epoch 49/200\n",
            "10/10 [==============================] - 0s 4ms/step - loss: 1.8330 - mae: 1.8330 - mse: 8.2813 - val_loss: 1.5949 - val_mae: 1.5949 - val_mse: 6.1511\n",
            "Epoch 50/200\n",
            "10/10 [==============================] - 0s 4ms/step - loss: 1.8327 - mae: 1.8327 - mse: 8.2802 - val_loss: 1.5965 - val_mae: 1.5965 - val_mse: 6.1569\n",
            "Epoch 51/200\n",
            "10/10 [==============================] - 0s 4ms/step - loss: 1.8331 - mae: 1.8331 - mse: 8.2824 - val_loss: 1.5957 - val_mae: 1.5957 - val_mse: 6.1547\n",
            "Epoch 52/200\n",
            "10/10 [==============================] - 0s 4ms/step - loss: 1.8328 - mae: 1.8328 - mse: 8.2806 - val_loss: 1.5969 - val_mae: 1.5969 - val_mse: 6.1580\n",
            "Epoch 53/200\n",
            "10/10 [==============================] - 0s 4ms/step - loss: 1.8332 - mae: 1.8332 - mse: 8.2820 - val_loss: 1.5950 - val_mae: 1.5950 - val_mse: 6.1477\n",
            "Epoch 54/200\n",
            "10/10 [==============================] - 0s 4ms/step - loss: 1.8333 - mae: 1.8333 - mse: 8.2837 - val_loss: 1.5950 - val_mae: 1.5950 - val_mse: 6.1482\n",
            "Epoch 55/200\n",
            "10/10 [==============================] - 0s 4ms/step - loss: 1.8328 - mae: 1.8328 - mse: 8.2801 - val_loss: 1.5952 - val_mae: 1.5952 - val_mse: 6.1535\n",
            "Epoch 56/200\n",
            "10/10 [==============================] - 0s 4ms/step - loss: 1.8327 - mae: 1.8327 - mse: 8.2818 - val_loss: 1.5959 - val_mae: 1.5959 - val_mse: 6.1553\n",
            "Epoch 57/200\n",
            "10/10 [==============================] - 0s 3ms/step - loss: 1.8326 - mae: 1.8326 - mse: 8.2827 - val_loss: 1.5949 - val_mae: 1.5949 - val_mse: 6.1499\n",
            "Epoch 58/200\n",
            "10/10 [==============================] - 0s 3ms/step - loss: 1.8328 - mae: 1.8328 - mse: 8.2823 - val_loss: 1.5949 - val_mae: 1.5949 - val_mse: 6.1522\n",
            "Epoch 59/200\n",
            "10/10 [==============================] - 0s 4ms/step - loss: 1.8327 - mae: 1.8327 - mse: 8.2825 - val_loss: 1.5955 - val_mae: 1.5955 - val_mse: 6.1542\n",
            "Epoch 60/200\n",
            "10/10 [==============================] - 0s 4ms/step - loss: 1.8332 - mae: 1.8332 - mse: 8.2820 - val_loss: 1.5957 - val_mae: 1.5957 - val_mse: 6.1546\n",
            "Epoch 61/200\n",
            "10/10 [==============================] - 0s 4ms/step - loss: 1.8327 - mae: 1.8327 - mse: 8.2827 - val_loss: 1.5950 - val_mae: 1.5950 - val_mse: 6.1479\n",
            "Epoch 62/200\n",
            "10/10 [==============================] - 0s 6ms/step - loss: 1.8338 - mae: 1.8338 - mse: 8.2820 - val_loss: 1.5961 - val_mae: 1.5961 - val_mse: 6.1556\n",
            "Epoch 63/200\n",
            "10/10 [==============================] - 0s 4ms/step - loss: 1.8327 - mae: 1.8327 - mse: 8.2803 - val_loss: 1.5954 - val_mae: 1.5954 - val_mse: 6.1537\n",
            "Epoch 64/200\n",
            "10/10 [==============================] - 0s 3ms/step - loss: 1.8327 - mae: 1.8327 - mse: 8.2818 - val_loss: 1.5950 - val_mae: 1.5950 - val_mse: 6.1528\n",
            "Epoch 65/200\n",
            "10/10 [==============================] - 0s 4ms/step - loss: 1.8327 - mae: 1.8327 - mse: 8.2827 - val_loss: 1.5950 - val_mae: 1.5950 - val_mse: 6.1502\n",
            "Epoch 66/200\n",
            "10/10 [==============================] - 0s 3ms/step - loss: 1.8328 - mae: 1.8328 - mse: 8.2801 - val_loss: 1.5964 - val_mae: 1.5964 - val_mse: 6.1563\n",
            "Epoch 67/200\n",
            "10/10 [==============================] - 0s 4ms/step - loss: 1.8337 - mae: 1.8337 - mse: 8.2786 - val_loss: 1.5949 - val_mae: 1.5949 - val_mse: 6.1511\n",
            "Epoch 68/200\n",
            "10/10 [==============================] - 0s 3ms/step - loss: 1.8336 - mae: 1.8336 - mse: 8.2854 - val_loss: 1.5951 - val_mae: 1.5951 - val_mse: 6.1455\n",
            "Epoch 69/200\n",
            "10/10 [==============================] - 0s 3ms/step - loss: 1.8333 - mae: 1.8333 - mse: 8.2818 - val_loss: 1.5950 - val_mae: 1.5950 - val_mse: 6.1484\n",
            "Epoch 70/200\n",
            "10/10 [==============================] - 0s 4ms/step - loss: 1.8327 - mae: 1.8327 - mse: 8.2818 - val_loss: 1.5949 - val_mae: 1.5949 - val_mse: 6.1507\n",
            "Epoch 71/200\n",
            "10/10 [==============================] - 0s 4ms/step - loss: 1.8331 - mae: 1.8331 - mse: 8.2836 - val_loss: 1.5958 - val_mae: 1.5958 - val_mse: 6.1551\n",
            "Epoch 72/200\n",
            "10/10 [==============================] - 0s 4ms/step - loss: 1.8331 - mae: 1.8331 - mse: 8.2831 - val_loss: 1.5951 - val_mae: 1.5951 - val_mse: 6.1531\n",
            "Epoch 73/200\n",
            "10/10 [==============================] - 0s 4ms/step - loss: 1.8328 - mae: 1.8328 - mse: 8.2826 - val_loss: 1.5951 - val_mae: 1.5951 - val_mse: 6.1467\n",
            "Epoch 74/200\n",
            "10/10 [==============================] - 0s 3ms/step - loss: 1.8332 - mae: 1.8332 - mse: 8.2823 - val_loss: 1.5960 - val_mae: 1.5960 - val_mse: 6.1553\n",
            "Epoch 75/200\n",
            "10/10 [==============================] - 0s 4ms/step - loss: 1.8333 - mae: 1.8333 - mse: 8.2834 - val_loss: 1.5955 - val_mae: 1.5955 - val_mse: 6.1539\n",
            "Epoch 76/200\n",
            "10/10 [==============================] - 0s 3ms/step - loss: 1.8331 - mae: 1.8331 - mse: 8.2808 - val_loss: 1.5949 - val_mae: 1.5949 - val_mse: 6.1505\n",
            "Epoch 77/200\n",
            "10/10 [==============================] - 0s 3ms/step - loss: 1.8326 - mae: 1.8326 - mse: 8.2823 - val_loss: 1.5952 - val_mae: 1.5952 - val_mse: 6.1534\n",
            "Epoch 78/200\n",
            "10/10 [==============================] - 0s 4ms/step - loss: 1.8325 - mae: 1.8325 - mse: 8.2822 - val_loss: 1.5950 - val_mae: 1.5950 - val_mse: 6.1524\n",
            "Epoch 79/200\n",
            "10/10 [==============================] - 0s 4ms/step - loss: 1.8324 - mae: 1.8324 - mse: 8.2817 - val_loss: 1.5951 - val_mae: 1.5951 - val_mse: 6.1471\n",
            "Epoch 80/200\n",
            "10/10 [==============================] - 0s 4ms/step - loss: 1.8330 - mae: 1.8330 - mse: 8.2812 - val_loss: 1.5950 - val_mae: 1.5950 - val_mse: 6.1498\n",
            "Epoch 81/200\n",
            "10/10 [==============================] - 0s 4ms/step - loss: 1.8335 - mae: 1.8335 - mse: 8.2808 - val_loss: 1.5983 - val_mae: 1.5983 - val_mse: 6.1614\n",
            "Epoch 82/200\n",
            "10/10 [==============================] - 0s 4ms/step - loss: 1.8336 - mae: 1.8336 - mse: 8.2830 - val_loss: 1.5950 - val_mae: 1.5950 - val_mse: 6.1488\n",
            "Epoch 83/200\n",
            "10/10 [==============================] - 0s 4ms/step - loss: 1.8326 - mae: 1.8326 - mse: 8.2816 - val_loss: 1.5950 - val_mae: 1.5950 - val_mse: 6.1507\n",
            "Epoch 84/200\n",
            "10/10 [==============================] - 0s 3ms/step - loss: 1.8326 - mae: 1.8326 - mse: 8.2813 - val_loss: 1.5953 - val_mae: 1.5953 - val_mse: 6.1535\n",
            "Epoch 85/200\n",
            "10/10 [==============================] - 0s 3ms/step - loss: 1.8325 - mae: 1.8325 - mse: 8.2820 - val_loss: 1.5949 - val_mae: 1.5949 - val_mse: 6.1519\n",
            "Epoch 86/200\n",
            "10/10 [==============================] - 0s 4ms/step - loss: 1.8328 - mae: 1.8328 - mse: 8.2802 - val_loss: 1.5951 - val_mae: 1.5951 - val_mse: 6.1464\n",
            "Epoch 87/200\n",
            "10/10 [==============================] - 0s 3ms/step - loss: 1.8332 - mae: 1.8332 - mse: 8.2825 - val_loss: 1.5950 - val_mae: 1.5950 - val_mse: 6.1488\n",
            "Epoch 88/200\n",
            "10/10 [==============================] - 0s 3ms/step - loss: 1.8329 - mae: 1.8329 - mse: 8.2808 - val_loss: 1.5949 - val_mae: 1.5949 - val_mse: 6.1510\n",
            "Epoch 89/200\n",
            "10/10 [==============================] - 0s 3ms/step - loss: 1.8325 - mae: 1.8325 - mse: 8.2820 - val_loss: 1.5950 - val_mae: 1.5950 - val_mse: 6.1523\n",
            "Epoch 90/200\n",
            "10/10 [==============================] - 0s 3ms/step - loss: 1.8333 - mae: 1.8333 - mse: 8.2828 - val_loss: 1.5952 - val_mae: 1.5952 - val_mse: 6.1530\n",
            "Epoch 91/200\n",
            "10/10 [==============================] - 0s 4ms/step - loss: 1.8332 - mae: 1.8332 - mse: 8.2792 - val_loss: 1.5956 - val_mae: 1.5956 - val_mse: 6.1540\n",
            "Epoch 92/200\n",
            "10/10 [==============================] - 0s 4ms/step - loss: 1.8326 - mae: 1.8326 - mse: 8.2820 - val_loss: 1.5949 - val_mae: 1.5949 - val_mse: 6.1511\n",
            "Epoch 93/200\n",
            "10/10 [==============================] - 0s 4ms/step - loss: 1.8332 - mae: 1.8332 - mse: 8.2821 - val_loss: 1.5950 - val_mae: 1.5950 - val_mse: 6.1479\n",
            "Epoch 94/200\n",
            "10/10 [==============================] - 0s 4ms/step - loss: 1.8326 - mae: 1.8326 - mse: 8.2817 - val_loss: 1.5949 - val_mae: 1.5949 - val_mse: 6.1519\n",
            "Epoch 95/200\n",
            "10/10 [==============================] - 0s 4ms/step - loss: 1.8332 - mae: 1.8332 - mse: 8.2810 - val_loss: 1.5951 - val_mae: 1.5951 - val_mse: 6.1467\n",
            "Epoch 96/200\n",
            "10/10 [==============================] - 0s 4ms/step - loss: 1.8338 - mae: 1.8338 - mse: 8.2845 - val_loss: 1.5950 - val_mae: 1.5950 - val_mse: 6.1506\n",
            "Epoch 97/200\n",
            "10/10 [==============================] - 0s 4ms/step - loss: 1.8329 - mae: 1.8329 - mse: 8.2810 - val_loss: 1.5949 - val_mae: 1.5949 - val_mse: 6.1508\n",
            "Epoch 98/200\n",
            "10/10 [==============================] - 0s 4ms/step - loss: 1.8326 - mae: 1.8326 - mse: 8.2810 - val_loss: 1.5950 - val_mae: 1.5950 - val_mse: 6.1506\n",
            "Epoch 99/200\n",
            "10/10 [==============================] - 0s 3ms/step - loss: 1.8330 - mae: 1.8330 - mse: 8.2812 - val_loss: 1.5951 - val_mae: 1.5951 - val_mse: 6.1475\n",
            "Epoch 100/200\n",
            "10/10 [==============================] - 0s 3ms/step - loss: 1.8329 - mae: 1.8329 - mse: 8.2814 - val_loss: 1.5953 - val_mae: 1.5953 - val_mse: 6.1532\n",
            "Epoch 101/200\n",
            "10/10 [==============================] - 0s 3ms/step - loss: 1.8329 - mae: 1.8329 - mse: 8.2842 - val_loss: 1.5950 - val_mae: 1.5950 - val_mse: 6.1523\n",
            "Epoch 102/200\n",
            "10/10 [==============================] - 0s 3ms/step - loss: 1.8335 - mae: 1.8335 - mse: 8.2827 - val_loss: 1.5979 - val_mae: 1.5979 - val_mse: 6.1604\n",
            "Epoch 103/200\n",
            "10/10 [==============================] - 0s 4ms/step - loss: 1.8339 - mae: 1.8339 - mse: 8.2872 - val_loss: 1.5968 - val_mae: 1.5968 - val_mse: 6.1574\n",
            "Epoch 104/200\n",
            "10/10 [==============================] - 0s 4ms/step - loss: 1.8335 - mae: 1.8335 - mse: 8.2780 - val_loss: 1.5951 - val_mae: 1.5951 - val_mse: 6.1460\n",
            "Epoch 105/200\n",
            "10/10 [==============================] - 0s 3ms/step - loss: 1.8338 - mae: 1.8338 - mse: 8.2842 - val_loss: 1.5951 - val_mae: 1.5951 - val_mse: 6.1457\n",
            "Epoch 106/200\n",
            "10/10 [==============================] - 0s 5ms/step - loss: 1.8342 - mae: 1.8342 - mse: 8.2785 - val_loss: 1.5978 - val_mae: 1.5978 - val_mse: 6.1606\n",
            "Epoch 107/200\n",
            "10/10 [==============================] - 0s 3ms/step - loss: 1.8340 - mae: 1.8340 - mse: 8.2862 - val_loss: 1.5952 - val_mae: 1.5952 - val_mse: 6.1435\n",
            "Epoch 108/200\n",
            "10/10 [==============================] - 0s 4ms/step - loss: 1.8339 - mae: 1.8339 - mse: 8.2791 - val_loss: 1.5966 - val_mae: 1.5966 - val_mse: 6.1573\n",
            "Epoch 109/200\n",
            "10/10 [==============================] - 0s 4ms/step - loss: 1.8335 - mae: 1.8335 - mse: 8.2840 - val_loss: 1.5960 - val_mae: 1.5960 - val_mse: 6.1557\n",
            "Epoch 110/200\n",
            "10/10 [==============================] - 0s 5ms/step - loss: 1.8329 - mae: 1.8329 - mse: 8.2812 - val_loss: 1.5951 - val_mae: 1.5951 - val_mse: 6.1532\n",
            "Epoch 111/200\n",
            "10/10 [==============================] - 0s 3ms/step - loss: 1.8335 - mae: 1.8335 - mse: 8.2861 - val_loss: 1.5950 - val_mae: 1.5950 - val_mse: 6.1529\n",
            "Epoch 112/200\n",
            "10/10 [==============================] - 0s 4ms/step - loss: 1.8328 - mae: 1.8328 - mse: 8.2808 - val_loss: 1.5973 - val_mae: 1.5973 - val_mse: 6.1592\n",
            "Epoch 113/200\n",
            "10/10 [==============================] - 0s 4ms/step - loss: 1.8333 - mae: 1.8333 - mse: 8.2844 - val_loss: 1.5950 - val_mae: 1.5950 - val_mse: 6.1528\n",
            "Epoch 114/200\n",
            "10/10 [==============================] - 0s 4ms/step - loss: 1.8329 - mae: 1.8329 - mse: 8.2828 - val_loss: 1.5957 - val_mae: 1.5957 - val_mse: 6.1548\n",
            "Epoch 115/200\n",
            "10/10 [==============================] - 0s 3ms/step - loss: 1.8327 - mae: 1.8327 - mse: 8.2828 - val_loss: 1.5949 - val_mae: 1.5949 - val_mse: 6.1512\n",
            "Epoch 116/200\n",
            "10/10 [==============================] - 0s 4ms/step - loss: 1.8327 - mae: 1.8327 - mse: 8.2824 - val_loss: 1.5952 - val_mae: 1.5952 - val_mse: 6.1534\n",
            "Epoch 117/200\n",
            "10/10 [==============================] - 0s 4ms/step - loss: 1.8326 - mae: 1.8326 - mse: 8.2826 - val_loss: 1.5950 - val_mae: 1.5950 - val_mse: 6.1498\n",
            "Epoch 118/200\n",
            "10/10 [==============================] - 0s 3ms/step - loss: 1.8334 - mae: 1.8334 - mse: 8.2845 - val_loss: 1.5952 - val_mae: 1.5952 - val_mse: 6.1434\n",
            "Epoch 119/200\n",
            "10/10 [==============================] - 0s 4ms/step - loss: 1.8341 - mae: 1.8341 - mse: 8.2806 - val_loss: 1.5961 - val_mae: 1.5961 - val_mse: 6.1556\n",
            "Epoch 120/200\n",
            "10/10 [==============================] - 0s 4ms/step - loss: 1.8329 - mae: 1.8329 - mse: 8.2796 - val_loss: 1.5958 - val_mae: 1.5958 - val_mse: 6.1547\n",
            "Epoch 121/200\n",
            "10/10 [==============================] - 0s 4ms/step - loss: 1.8327 - mae: 1.8327 - mse: 8.2832 - val_loss: 1.5955 - val_mae: 1.5955 - val_mse: 6.1538\n",
            "Epoch 122/200\n",
            "10/10 [==============================] - 0s 4ms/step - loss: 1.8325 - mae: 1.8325 - mse: 8.2822 - val_loss: 1.5950 - val_mae: 1.5950 - val_mse: 6.1508\n",
            "Epoch 123/200\n",
            "10/10 [==============================] - 0s 4ms/step - loss: 1.8327 - mae: 1.8327 - mse: 8.2814 - val_loss: 1.5949 - val_mae: 1.5949 - val_mse: 6.1514\n",
            "Epoch 124/200\n",
            "10/10 [==============================] - 0s 4ms/step - loss: 1.8325 - mae: 1.8325 - mse: 8.2821 - val_loss: 1.5950 - val_mae: 1.5950 - val_mse: 6.1521\n",
            "Epoch 125/200\n",
            "10/10 [==============================] - 0s 3ms/step - loss: 1.8324 - mae: 1.8324 - mse: 8.2821 - val_loss: 1.5949 - val_mae: 1.5949 - val_mse: 6.1519\n",
            "Epoch 126/200\n",
            "10/10 [==============================] - 0s 4ms/step - loss: 1.8330 - mae: 1.8330 - mse: 8.2821 - val_loss: 1.5972 - val_mae: 1.5972 - val_mse: 6.1580\n",
            "Epoch 127/200\n",
            "10/10 [==============================] - 0s 4ms/step - loss: 1.8332 - mae: 1.8332 - mse: 8.2808 - val_loss: 1.5949 - val_mae: 1.5949 - val_mse: 6.1520\n",
            "Epoch 128/200\n",
            "10/10 [==============================] - 0s 4ms/step - loss: 1.8327 - mae: 1.8327 - mse: 8.2825 - val_loss: 1.5957 - val_mae: 1.5957 - val_mse: 6.1541\n",
            "Epoch 129/200\n",
            "10/10 [==============================] - 0s 3ms/step - loss: 1.8325 - mae: 1.8325 - mse: 8.2824 - val_loss: 1.5956 - val_mae: 1.5956 - val_mse: 6.1537\n",
            "Epoch 130/200\n",
            "10/10 [==============================] - 0s 4ms/step - loss: 1.8328 - mae: 1.8328 - mse: 8.2812 - val_loss: 1.5949 - val_mae: 1.5949 - val_mse: 6.1514\n",
            "Epoch 131/200\n",
            "10/10 [==============================] - 0s 3ms/step - loss: 1.8324 - mae: 1.8324 - mse: 8.2818 - val_loss: 1.5951 - val_mae: 1.5951 - val_mse: 6.1524\n",
            "Epoch 132/200\n",
            "10/10 [==============================] - 0s 4ms/step - loss: 1.8325 - mae: 1.8325 - mse: 8.2808 - val_loss: 1.5950 - val_mae: 1.5950 - val_mse: 6.1487\n",
            "Epoch 133/200\n",
            "10/10 [==============================] - 0s 3ms/step - loss: 1.8328 - mae: 1.8328 - mse: 8.2817 - val_loss: 1.5950 - val_mae: 1.5950 - val_mse: 6.1512\n",
            "Epoch 134/200\n",
            "10/10 [==============================] - 0s 5ms/step - loss: 1.8325 - mae: 1.8325 - mse: 8.2814 - val_loss: 1.5950 - val_mae: 1.5950 - val_mse: 6.1494\n",
            "Epoch 135/200\n",
            "10/10 [==============================] - 0s 4ms/step - loss: 1.8330 - mae: 1.8330 - mse: 8.2831 - val_loss: 1.5951 - val_mae: 1.5951 - val_mse: 6.1476\n",
            "Epoch 136/200\n",
            "10/10 [==============================] - 0s 4ms/step - loss: 1.8332 - mae: 1.8332 - mse: 8.2821 - val_loss: 1.5951 - val_mae: 1.5951 - val_mse: 6.1476\n",
            "Epoch 137/200\n",
            "10/10 [==============================] - 0s 4ms/step - loss: 1.8337 - mae: 1.8337 - mse: 8.2815 - val_loss: 1.5951 - val_mae: 1.5951 - val_mse: 6.1474\n",
            "Epoch 138/200\n",
            "10/10 [==============================] - 0s 4ms/step - loss: 1.8332 - mae: 1.8332 - mse: 8.2803 - val_loss: 1.5950 - val_mae: 1.5950 - val_mse: 6.1485\n",
            "Epoch 139/200\n",
            "10/10 [==============================] - 0s 4ms/step - loss: 1.8326 - mae: 1.8326 - mse: 8.2821 - val_loss: 1.5949 - val_mae: 1.5949 - val_mse: 6.1512\n",
            "Epoch 140/200\n",
            "10/10 [==============================] - 0s 4ms/step - loss: 1.8328 - mae: 1.8328 - mse: 8.2808 - val_loss: 1.5950 - val_mae: 1.5950 - val_mse: 6.1498\n",
            "Epoch 141/200\n",
            "10/10 [==============================] - 0s 4ms/step - loss: 1.8333 - mae: 1.8333 - mse: 8.2830 - val_loss: 1.5950 - val_mae: 1.5950 - val_mse: 6.1503\n",
            "Epoch 142/200\n",
            "10/10 [==============================] - 0s 4ms/step - loss: 1.8333 - mae: 1.8333 - mse: 8.2818 - val_loss: 1.5950 - val_mae: 1.5950 - val_mse: 6.1507\n",
            "Epoch 143/200\n",
            "10/10 [==============================] - 0s 4ms/step - loss: 1.8327 - mae: 1.8327 - mse: 8.2815 - val_loss: 1.5958 - val_mae: 1.5958 - val_mse: 6.1547\n",
            "Epoch 144/200\n",
            "10/10 [==============================] - 0s 4ms/step - loss: 1.8326 - mae: 1.8326 - mse: 8.2825 - val_loss: 1.5950 - val_mae: 1.5950 - val_mse: 6.1504\n",
            "Epoch 145/200\n",
            "10/10 [==============================] - 0s 4ms/step - loss: 1.8327 - mae: 1.8327 - mse: 8.2818 - val_loss: 1.5950 - val_mae: 1.5950 - val_mse: 6.1525\n",
            "Epoch 146/200\n",
            "10/10 [==============================] - 0s 4ms/step - loss: 1.8326 - mae: 1.8326 - mse: 8.2822 - val_loss: 1.5950 - val_mae: 1.5950 - val_mse: 6.1523\n",
            "Epoch 147/200\n",
            "10/10 [==============================] - 0s 3ms/step - loss: 1.8328 - mae: 1.8328 - mse: 8.2826 - val_loss: 1.5958 - val_mae: 1.5958 - val_mse: 6.1546\n",
            "Epoch 148/200\n",
            "10/10 [==============================] - 0s 4ms/step - loss: 1.8328 - mae: 1.8328 - mse: 8.2809 - val_loss: 1.5957 - val_mae: 1.5957 - val_mse: 6.1543\n",
            "Epoch 149/200\n",
            "10/10 [==============================] - 0s 4ms/step - loss: 1.8326 - mae: 1.8326 - mse: 8.2813 - val_loss: 1.5951 - val_mae: 1.5951 - val_mse: 6.1530\n",
            "Epoch 150/200\n",
            "10/10 [==============================] - 0s 4ms/step - loss: 1.8326 - mae: 1.8326 - mse: 8.2818 - val_loss: 1.5957 - val_mae: 1.5957 - val_mse: 6.1545\n",
            "Epoch 151/200\n",
            "10/10 [==============================] - 0s 4ms/step - loss: 1.8337 - mae: 1.8337 - mse: 8.2817 - val_loss: 1.5956 - val_mae: 1.5956 - val_mse: 6.1543\n",
            "Epoch 152/200\n",
            "10/10 [==============================] - 0s 3ms/step - loss: 1.8335 - mae: 1.8335 - mse: 8.2829 - val_loss: 1.5951 - val_mae: 1.5951 - val_mse: 6.1451\n",
            "Epoch 153/200\n",
            "10/10 [==============================] - 0s 3ms/step - loss: 1.8339 - mae: 1.8339 - mse: 8.2831 - val_loss: 1.5975 - val_mae: 1.5975 - val_mse: 6.1596\n",
            "Epoch 154/200\n",
            "10/10 [==============================] - 0s 6ms/step - loss: 1.8327 - mae: 1.8327 - mse: 8.2783 - val_loss: 1.5950 - val_mae: 1.5950 - val_mse: 6.1490\n",
            "Epoch 155/200\n",
            "10/10 [==============================] - 0s 4ms/step - loss: 1.8330 - mae: 1.8330 - mse: 8.2830 - val_loss: 1.5949 - val_mae: 1.5949 - val_mse: 6.1505\n",
            "Epoch 156/200\n",
            "10/10 [==============================] - 0s 3ms/step - loss: 1.8328 - mae: 1.8328 - mse: 8.2814 - val_loss: 1.5949 - val_mae: 1.5949 - val_mse: 6.1515\n",
            "Epoch 157/200\n",
            "10/10 [==============================] - 0s 5ms/step - loss: 1.8328 - mae: 1.8328 - mse: 8.2804 - val_loss: 1.5950 - val_mae: 1.5950 - val_mse: 6.1497\n",
            "Epoch 158/200\n",
            "10/10 [==============================] - 0s 4ms/step - loss: 1.8325 - mae: 1.8325 - mse: 8.2819 - val_loss: 1.5949 - val_mae: 1.5949 - val_mse: 6.1515\n",
            "Epoch 159/200\n",
            "10/10 [==============================] - 0s 4ms/step - loss: 1.8325 - mae: 1.8325 - mse: 8.2822 - val_loss: 1.5949 - val_mae: 1.5949 - val_mse: 6.1512\n",
            "Epoch 160/200\n",
            "10/10 [==============================] - 0s 4ms/step - loss: 1.8329 - mae: 1.8329 - mse: 8.2816 - val_loss: 1.5949 - val_mae: 1.5949 - val_mse: 6.1518\n",
            "Epoch 161/200\n",
            "10/10 [==============================] - 0s 4ms/step - loss: 1.8324 - mae: 1.8324 - mse: 8.2815 - val_loss: 1.5950 - val_mae: 1.5950 - val_mse: 6.1507\n",
            "Epoch 162/200\n",
            "10/10 [==============================] - 0s 4ms/step - loss: 1.8330 - mae: 1.8330 - mse: 8.2828 - val_loss: 1.5954 - val_mae: 1.5954 - val_mse: 6.1534\n",
            "Epoch 163/200\n",
            "10/10 [==============================] - 0s 4ms/step - loss: 1.8325 - mae: 1.8325 - mse: 8.2819 - val_loss: 1.5950 - val_mae: 1.5950 - val_mse: 6.1482\n",
            "Epoch 164/200\n",
            "10/10 [==============================] - 0s 3ms/step - loss: 1.8336 - mae: 1.8336 - mse: 8.2820 - val_loss: 1.5959 - val_mae: 1.5959 - val_mse: 6.1550\n",
            "Epoch 165/200\n",
            "10/10 [==============================] - 0s 4ms/step - loss: 1.8334 - mae: 1.8334 - mse: 8.2803 - val_loss: 1.5962 - val_mae: 1.5962 - val_mse: 6.1560\n",
            "Epoch 166/200\n",
            "10/10 [==============================] - 0s 4ms/step - loss: 1.8333 - mae: 1.8333 - mse: 8.2821 - val_loss: 1.5955 - val_mae: 1.5955 - val_mse: 6.1544\n",
            "Epoch 167/200\n",
            "10/10 [==============================] - 0s 4ms/step - loss: 1.8336 - mae: 1.8336 - mse: 8.2854 - val_loss: 1.5950 - val_mae: 1.5950 - val_mse: 6.1494\n",
            "Epoch 168/200\n",
            "10/10 [==============================] - 0s 4ms/step - loss: 1.8333 - mae: 1.8333 - mse: 8.2833 - val_loss: 1.5949 - val_mae: 1.5949 - val_mse: 6.1497\n",
            "Epoch 169/200\n",
            "10/10 [==============================] - 0s 4ms/step - loss: 1.8328 - mae: 1.8328 - mse: 8.2825 - val_loss: 1.5951 - val_mae: 1.5951 - val_mse: 6.1530\n",
            "Epoch 170/200\n",
            "10/10 [==============================] - 0s 4ms/step - loss: 1.8327 - mae: 1.8327 - mse: 8.2835 - val_loss: 1.5949 - val_mae: 1.5949 - val_mse: 6.1522\n",
            "Epoch 171/200\n",
            "10/10 [==============================] - 0s 3ms/step - loss: 1.8330 - mae: 1.8330 - mse: 8.2825 - val_loss: 1.5950 - val_mae: 1.5950 - val_mse: 6.1484\n",
            "Epoch 172/200\n",
            "10/10 [==============================] - 0s 4ms/step - loss: 1.8329 - mae: 1.8329 - mse: 8.2815 - val_loss: 1.5951 - val_mae: 1.5951 - val_mse: 6.1472\n",
            "Epoch 173/200\n",
            "10/10 [==============================] - 0s 4ms/step - loss: 1.8329 - mae: 1.8329 - mse: 8.2785 - val_loss: 1.5956 - val_mae: 1.5956 - val_mse: 6.1546\n",
            "Epoch 174/200\n",
            "10/10 [==============================] - 0s 3ms/step - loss: 1.8326 - mae: 1.8326 - mse: 8.2824 - val_loss: 1.5950 - val_mae: 1.5950 - val_mse: 6.1525\n",
            "Epoch 175/200\n",
            "10/10 [==============================] - 0s 3ms/step - loss: 1.8326 - mae: 1.8326 - mse: 8.2821 - val_loss: 1.5951 - val_mae: 1.5951 - val_mse: 6.1531\n",
            "Epoch 176/200\n",
            "10/10 [==============================] - 0s 3ms/step - loss: 1.8326 - mae: 1.8326 - mse: 8.2822 - val_loss: 1.5950 - val_mae: 1.5950 - val_mse: 6.1497\n",
            "Epoch 177/200\n",
            "10/10 [==============================] - 0s 4ms/step - loss: 1.8329 - mae: 1.8329 - mse: 8.2809 - val_loss: 1.5949 - val_mae: 1.5949 - val_mse: 6.1510\n",
            "Epoch 178/200\n",
            "10/10 [==============================] - 0s 4ms/step - loss: 1.8327 - mae: 1.8327 - mse: 8.2812 - val_loss: 1.5950 - val_mae: 1.5950 - val_mse: 6.1524\n",
            "Epoch 179/200\n",
            "10/10 [==============================] - 0s 4ms/step - loss: 1.8327 - mae: 1.8327 - mse: 8.2819 - val_loss: 1.5955 - val_mae: 1.5955 - val_mse: 6.1538\n",
            "Epoch 180/200\n",
            "10/10 [==============================] - 0s 5ms/step - loss: 1.8327 - mae: 1.8327 - mse: 8.2824 - val_loss: 1.5950 - val_mae: 1.5950 - val_mse: 6.1524\n",
            "Epoch 181/200\n",
            "10/10 [==============================] - 0s 4ms/step - loss: 1.8326 - mae: 1.8326 - mse: 8.2818 - val_loss: 1.5953 - val_mae: 1.5953 - val_mse: 6.1532\n",
            "Epoch 182/200\n",
            "10/10 [==============================] - 0s 4ms/step - loss: 1.8326 - mae: 1.8326 - mse: 8.2819 - val_loss: 1.5950 - val_mae: 1.5950 - val_mse: 6.1500\n",
            "Epoch 183/200\n",
            "10/10 [==============================] - 0s 4ms/step - loss: 1.8330 - mae: 1.8330 - mse: 8.2819 - val_loss: 1.5951 - val_mae: 1.5951 - val_mse: 6.1479\n",
            "Epoch 184/200\n",
            "10/10 [==============================] - 0s 4ms/step - loss: 1.8328 - mae: 1.8328 - mse: 8.2813 - val_loss: 1.5949 - val_mae: 1.5949 - val_mse: 6.1515\n",
            "Epoch 185/200\n",
            "10/10 [==============================] - 0s 6ms/step - loss: 1.8327 - mae: 1.8327 - mse: 8.2810 - val_loss: 1.5950 - val_mae: 1.5950 - val_mse: 6.1500\n",
            "Epoch 186/200\n",
            "10/10 [==============================] - 0s 3ms/step - loss: 1.8330 - mae: 1.8330 - mse: 8.2820 - val_loss: 1.5950 - val_mae: 1.5950 - val_mse: 6.1482\n",
            "Epoch 187/200\n",
            "10/10 [==============================] - 0s 4ms/step - loss: 1.8332 - mae: 1.8332 - mse: 8.2833 - val_loss: 1.5950 - val_mae: 1.5950 - val_mse: 6.1499\n",
            "Epoch 188/200\n",
            "10/10 [==============================] - 0s 4ms/step - loss: 1.8331 - mae: 1.8331 - mse: 8.2819 - val_loss: 1.5949 - val_mae: 1.5949 - val_mse: 6.1512\n",
            "Epoch 189/200\n",
            "10/10 [==============================] - 0s 4ms/step - loss: 1.8326 - mae: 1.8326 - mse: 8.2823 - val_loss: 1.5951 - val_mae: 1.5951 - val_mse: 6.1528\n",
            "Epoch 190/200\n",
            "10/10 [==============================] - 0s 4ms/step - loss: 1.8325 - mae: 1.8325 - mse: 8.2818 - val_loss: 1.5956 - val_mae: 1.5956 - val_mse: 6.1543\n",
            "Epoch 191/200\n",
            "10/10 [==============================] - 0s 4ms/step - loss: 1.8327 - mae: 1.8327 - mse: 8.2813 - val_loss: 1.5959 - val_mae: 1.5959 - val_mse: 6.1549\n",
            "Epoch 192/200\n",
            "10/10 [==============================] - 0s 4ms/step - loss: 1.8327 - mae: 1.8327 - mse: 8.2817 - val_loss: 1.5965 - val_mae: 1.5965 - val_mse: 6.1566\n",
            "Epoch 193/200\n",
            "10/10 [==============================] - 0s 4ms/step - loss: 1.8329 - mae: 1.8329 - mse: 8.2810 - val_loss: 1.5955 - val_mae: 1.5955 - val_mse: 6.1539\n",
            "Epoch 194/200\n",
            "10/10 [==============================] - 0s 4ms/step - loss: 1.8326 - mae: 1.8326 - mse: 8.2826 - val_loss: 1.5958 - val_mae: 1.5958 - val_mse: 6.1545\n",
            "Epoch 195/200\n",
            "10/10 [==============================] - 0s 5ms/step - loss: 1.8327 - mae: 1.8327 - mse: 8.2811 - val_loss: 1.5963 - val_mae: 1.5963 - val_mse: 6.1559\n",
            "Epoch 196/200\n",
            "10/10 [==============================] - 0s 4ms/step - loss: 1.8333 - mae: 1.8333 - mse: 8.2823 - val_loss: 1.5963 - val_mae: 1.5963 - val_mse: 6.1560\n",
            "Epoch 197/200\n",
            "10/10 [==============================] - 0s 3ms/step - loss: 1.8332 - mae: 1.8332 - mse: 8.2822 - val_loss: 1.5959 - val_mae: 1.5959 - val_mse: 6.1548\n",
            "Epoch 198/200\n",
            "10/10 [==============================] - 0s 3ms/step - loss: 1.8338 - mae: 1.8338 - mse: 8.2815 - val_loss: 1.5950 - val_mae: 1.5950 - val_mse: 6.1503\n",
            "Epoch 199/200\n",
            "10/10 [==============================] - 0s 4ms/step - loss: 1.8341 - mae: 1.8341 - mse: 8.2868 - val_loss: 1.5951 - val_mae: 1.5951 - val_mse: 6.1452\n",
            "Epoch 200/200\n",
            "10/10 [==============================] - 0s 4ms/step - loss: 1.8346 - mae: 1.8346 - mse: 8.2773 - val_loss: 1.5972 - val_mae: 1.5972 - val_mse: 6.1586\n"
          ],
          "name": "stdout"
        }
      ]
    },
    {
      "cell_type": "code",
      "metadata": {
        "colab": {
          "base_uri": "https://localhost:8080/"
        },
        "id": "_oNjtHeAoHMF",
        "outputId": "01536e11-5877-4ffa-d8bf-9dbf90588d73"
      },
      "source": [
        "model.summary()"
      ],
      "execution_count": null,
      "outputs": [
        {
          "output_type": "stream",
          "text": [
            "Model: \"sequential\"\n",
            "_________________________________________________________________\n",
            "Layer (type)                 Output Shape              Param #   \n",
            "=================================================================\n",
            "dense (Dense)                (None, 1)                 2         \n",
            "=================================================================\n",
            "Total params: 2\n",
            "Trainable params: 2\n",
            "Non-trainable params: 0\n",
            "_________________________________________________________________\n"
          ],
          "name": "stdout"
        }
      ]
    },
    {
      "cell_type": "code",
      "metadata": {
        "colab": {
          "base_uri": "https://localhost:8080/",
          "height": 705
        },
        "id": "PHTdGpwioRft",
        "outputId": "80c8f67a-bb8d-482d-f149-58523c9b6a37"
      },
      "source": [
        "\n",
        "# string --> loss , mae, mse\n",
        "\n",
        "def plotGraphs(history, string): \n",
        "  plt.plot(history.history[string])\n",
        "  plt.plot(history.history[f'val_{string}'])\n",
        "  plt.xlabel('Num of Epochs')\n",
        "  plt.ylabel(string)\n",
        "  plt.legend([string, f'val_{string}'])\n",
        "  plt.show()\n",
        "\n",
        "plotGraphs(history, 'loss')\n",
        "plotGraphs(history, 'mae')"
      ],
      "execution_count": null,
      "outputs": [
        {
          "output_type": "display_data",
          "data": {
            "image/png": "[encoded data removed]",
            "text/plain": [
              "<Figure size 576x396 with 1 Axes>"
            ]
          },
          "metadata": {
            "tags": []
          }
        },
        {
          "output_type": "display_data",
          "data": {
            "image/png": "[encoded data removed]",
            "text/plain": [
              "<Figure size 576x396 with 1 Axes>"
            ]
          },
          "metadata": {
            "tags": []
          }
        }
      ]
    },
    {
      "cell_type": "code",
      "metadata": {
        "id": "ySrYZr79oT9S"
      },
      "source": [
        "\n",
        "testPreds = model.predict(testFeatures).flatten() #array of all prediction values"
      ],
      "execution_count": null,
      "outputs": []
    },
    {
      "cell_type": "code",
      "metadata": {
        "colab": {
          "base_uri": "https://localhost:8080/",
          "height": 361
        },
        "id": "iN686cj_oWVE",
        "outputId": "45e93ae0-bf9f-441b-ba3b-1207f1c059c5"
      },
      "source": [
        "# prediciton plot --> how well is your model predicting across the actual labels\n",
        "\n",
        "def predPlot(labels, predictions):\n",
        "  plt.scatter(labels, predictions)\n",
        "  plt.ylabel('Predictions')\n",
        "  plt.xlabel('True Value or Labels')\n",
        "  plt.axis('equal')\n",
        "  plt.axis('square')\n",
        "  plt.xlim([0, plt.xlim()[1]])\n",
        "  plt.ylim([0, plt.ylim()[1]])\n",
        "  plt.plot([-100, 100], [-100,100])\n",
        "  plt.show()\n",
        "\n",
        "predPlot(testLabels, testPreds)"
      ],
      "execution_count": null,
      "outputs": [
        {
          "output_type": "display_data",
          "data": {
            "image/png": "[encoded data removed]",
            "text/plain": [
              "<Figure size 576x396 with 1 Axes>"
            ]
          },
          "metadata": {
            "tags": []
          }
        }
      ]
    },
    {
      "cell_type": "code",
      "metadata": {
        "colab": {
          "base_uri": "https://localhost:8080/",
          "height": 361
        },
        "id": "_SKl-SonoZuZ",
        "outputId": "11464a31-e108-4d6b-bb85-78cc6cfbe548"
      },
      "source": [
        "#error plot --> gaussian distribution \n",
        "\n",
        "def errorPlot(preds, labels, counts):\n",
        "  errors = preds - labels\n",
        "  plt.hist(errors, counts)\n",
        "  plt.xlabel('Error')\n",
        "  plt.ylabel('Counts')\n",
        "  plt.show()\n",
        "\n",
        "errorPlot(testPreds, testLabels, numEpochs)"
      ],
      "execution_count": null,
      "outputs": [
        {
          "output_type": "display_data",
          "data": {
            "image/png": "[encoded data removed]",
            "text/plain": [
              "<Figure size 576x396 with 1 Axes>"
            ]
          },
          "metadata": {
            "tags": []
          }
        }
      ]
    },
    {
      "cell_type": "code",
      "metadata": {
        "id": "elgHKcFQodtb"
      },
      "source": [
        ""
      ],
      "execution_count": null,
      "outputs": []
    }
  ]
}